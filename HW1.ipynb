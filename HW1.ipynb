{
 "cells": [
  {
   "cell_type": "markdown",
   "metadata": {},
   "source": [
    "# Assignment 1: Build the flow around a NACA0012 airfoil"
   ]
  },
  {
   "cell_type": "code",
   "execution_count": 1,
   "metadata": {
    "collapsed": true
   },
   "outputs": [],
   "source": [
    "import math\n",
    "import numpy\n",
    "from matplotlib import pyplot\n",
    "# embed figures into the notebook\n",
    "%matplotlib inline"
   ]
  },
  {
   "cell_type": "code",
   "execution_count": 2,
   "metadata": {
    "collapsed": true
   },
   "outputs": [],
   "source": [
    "N = 51                                # Number of points in each direction\n",
    "x_start, x_end = -1.0, 2.0            # x-direction boundaries\n",
    "y_start, y_end = -0.5, 0.5            # y-direction boundaries\n",
    "x = numpy.linspace(x_start,x_end,N)    # 1D-array for x\n",
    "y = numpy.linspace(y_start,y_end,N)    # 1D-array for y\n",
    "X, Y = numpy.meshgrid(x, y)              # generates a mesh grid"
   ]
  },
  {
   "cell_type": "code",
   "execution_count": 3,
   "metadata": {
    "collapsed": true
   },
   "outputs": [],
   "source": [
    "x_source=numpy.loadtxt('../AeroPython/lessons/resources/NACA0012_x.txt')\n",
    "y_source=numpy.loadtxt('../AeroPython/lessons/resources/NACA0012_y.txt')\n",
    "sigma_source=numpy.loadtxt('../AeroPython/lessons/resources/NACA0012_sigma.txt')"
   ]
  },
  {
   "cell_type": "code",
   "execution_count": 4,
   "metadata": {
    "collapsed": false
   },
   "outputs": [
    {
     "data": {
      "text/plain": [
       "(100,)"
      ]
     },
     "execution_count": 4,
     "metadata": {},
     "output_type": "execute_result"
    }
   ],
   "source": [
    "numpy.shape(x_source)"
   ]
  },
  {
   "cell_type": "code",
   "execution_count": 5,
   "metadata": {
    "collapsed": false
   },
   "outputs": [
    {
     "data": {
      "text/plain": [
       "<matplotlib.collections.PathCollection at 0x7f52dc478ac8>"
      ]
     },
     "execution_count": 5,
     "metadata": {},
     "output_type": "execute_result"
    },
    {
     "data": {
      "image/png": "[encoded data removed]",
      "text/plain": [
       "<matplotlib.figure.Figure at 0x7f52d60e5470>"
      ]
     },
     "metadata": {},
     "output_type": "display_data"
    }
   ],
   "source": [
    "# plot the grid of points\n",
    "size = 10\n",
    "pyplot.figure(figsize=(size, (y_end-y_start)/(x_end-x_start)*size))\n",
    "pyplot.xlabel('x', fontsize=16)\n",
    "pyplot.ylabel('y', fontsize=16)\n",
    "pyplot.xlim(x_start, x_end)\n",
    "pyplot.ylim(y_start, y_end)\n",
    "pyplot.scatter(x_source, y_source, s=10, color='#CD2305', marker='o', linewidth=0)"
   ]
  },
  {
   "cell_type": "code",
   "execution_count": 6,
   "metadata": {
    "collapsed": false
   },
   "outputs": [
    {
     "data": {
      "text/plain": [
       "<matplotlib.collections.PathCollection at 0x7f52dc028588>"
      ]
     },
     "execution_count": 6,
     "metadata": {},
     "output_type": "execute_result"
    },
    {
     "data": {
      "image/png": "[encoded data removed]",
      "text/plain": [
       "<matplotlib.figure.Figure at 0x7f52dc447128>"
      ]
     },
     "metadata": {},
     "output_type": "display_data"
    }
   ],
   "source": [
    "size = 10\n",
    "pyplot.figure(figsize=(size, (y_end-y_start)/(x_end-x_start)*size))\n",
    "pyplot.xlabel('x', fontsize=16)\n",
    "pyplot.ylabel('y', fontsize=16)\n",
    "pyplot.xlim(x_start, x_end)\n",
    "pyplot.ylim(y_start, y_end)\n",
    "pyplot.scatter(X, Y, s=10, color='#CD2305', marker='o', linewidth=0)"
   ]
  },
  {
   "cell_type": "code",
   "execution_count": 7,
   "metadata": {
    "collapsed": true
   },
   "outputs": [],
   "source": [
    "u_inf = 1.0        # freestream speed\n",
    "\n",
    "# compute the freestream velocity field\n",
    "u_freestream = u_inf * numpy.ones((N, N), dtype=float)\n",
    "v_freestream = numpy.zeros((N, N), dtype=float)\n",
    "\n",
    "# compute the stream-function\n",
    "psi_freestream = u_inf * Y"
   ]
  },
  {
   "cell_type": "code",
   "execution_count": 8,
   "metadata": {
    "collapsed": true
   },
   "outputs": [],
   "source": [
    "def get_velocity(strength, xs, ys, X, Y):\n",
    "    \"\"\"\n",
    "    Returns the velocity field generated by a source/sink.\n",
    "    \n",
    "    Parameters\n",
    "    ----------\n",
    "    strength: float\n",
    "        Strength of the source/sink.\n",
    "    xs: float\n",
    "        x-coordinate of the source (or sink).\n",
    "    ys: float\n",
    "        y-coordinate of the source (or sink).\n",
    "    X: 2D Numpy array of floats\n",
    "        x-coordinate of the mesh points.\n",
    "    Y: 2D Numpy array of floats\n",
    "        y-coordinate of the mesh points.\n",
    "    \n",
    "    Returns\n",
    "    -------\n",
    "    u: 2D Numpy array of floats\n",
    "        x-component of the velocity vector field.\n",
    "    v: 2D Numpy array of floats\n",
    "        y-component of the velocity vector field.\n",
    "    \"\"\"\n",
    "    u = strength/(2*numpy.pi)*(X-xs)/((X-xs)**2+(Y-ys)**2)\n",
    "    v = strength/(2*numpy.pi)*(Y-ys)/((X-xs)**2+(Y-ys)**2)\n",
    "    \n",
    "    return u, v"
   ]
  },
  {
   "cell_type": "code",
   "execution_count": 9,
   "metadata": {
    "collapsed": true
   },
   "outputs": [],
   "source": [
    "def get_stream_function(strength, xs, ys, X, Y):\n",
    "    \"\"\"\n",
    "    Returns the stream-function generated by a source/sink.\n",
    "    \n",
    "    Parameters\n",
    "    ----------\n",
    "    strength: float\n",
    "        Strength of the source/sink.\n",
    "    xs: float\n",
    "        x-coordinate of the source (or sink).\n",
    "    ys: float\n",
    "        y-coordinate of the source (or sink).\n",
    "    X: 2D Numpy array of floats\n",
    "        x-coordinate of the mesh points.\n",
    "    Y: 2D Numpy array of floats\n",
    "        y-coordinate of the mesh points.\n",
    "    \n",
    "    Returns\n",
    "    -------\n",
    "    psi: 2D Numpy array of floats\n",
    "        The stream-function.\n",
    "    \"\"\"\n",
    "    psi = strength/(2*numpy.pi)*numpy.arctan2((Y-ys), (X-xs))\n",
    "    \n",
    "    return psi"
   ]
  },
  {
   "cell_type": "code",
   "execution_count": 10,
   "metadata": {
    "collapsed": false
   },
   "outputs": [],
   "source": [
    "u_1, v_1=0,0\n",
    "psi_1=0\n",
    "for i in range(len(x_source)):\n",
    "    u_source, v_source = get_velocity(sigma_source[i], x_source[i], y_source[i], X, Y)\n",
    "    psi_source = get_stream_function(sigma_source[i], x_source[i], y_source[i], X, Y)\n",
    "    u_1=u_source+u_1\n",
    "    v_1=v_source+v_1\n",
    "    psi_1=psi_source+psi_1"
   ]
  },
  {
   "cell_type": "code",
   "execution_count": 11,
   "metadata": {
    "collapsed": false
   },
   "outputs": [
    {
     "data": {
      "text/plain": [
       "(51, 51)"
      ]
     },
     "execution_count": 11,
     "metadata": {},
     "output_type": "execute_result"
    }
   ],
   "source": [
    "numpy.shape(u_source)"
   ]
  },
  {
   "cell_type": "code",
   "execution_count": 12,
   "metadata": {
    "collapsed": false
   },
   "outputs": [
    {
     "data": {
      "text/plain": [
       "(51, 51)"
      ]
     },
     "execution_count": 12,
     "metadata": {},
     "output_type": "execute_result"
    }
   ],
   "source": [
    "numpy.shape(u_1)"
   ]
  },
  {
   "cell_type": "code",
   "execution_count": 13,
   "metadata": {
    "collapsed": false
   },
   "outputs": [],
   "source": [
    "# superposition of the source on the freestream\n",
    "u = u_freestream + u_1\n",
    "v = v_freestream + v_1\n",
    "psi = psi_freestream + psi_1"
   ]
  },
  {
   "cell_type": "markdown",
   "metadata": {},
   "source": [
    "# Stream lines in the domain and the profile of NACA0012 airfoil in one plot"
   ]
  },
  {
   "cell_type": "code",
   "execution_count": 14,
   "metadata": {
    "collapsed": false
   },
   "outputs": [
    {
     "data": {
      "text/plain": [
       "<matplotlib.collections.PathCollection at 0x7f52d5b4add8>"
      ]
     },
     "execution_count": 14,
     "metadata": {},
     "output_type": "execute_result"
    },
    {
     "data": {
      "image/png": "[encoded data removed]",
      "text/plain": [
       "<matplotlib.figure.Figure at 0x7f52dc036860>"
      ]
     },
     "metadata": {},
     "output_type": "display_data"
    }
   ],
   "source": [
    "size = 10\n",
    "pyplot.figure(figsize=(size, (y_end-y_start)/(x_end-x_start)*size))\n",
    "pyplot.xlabel('x', fontsize=16)\n",
    "pyplot.ylabel('y', fontsize=16)\n",
    "pyplot.xlim(x_start, x_end)\n",
    "pyplot.ylim(y_start, y_end)\n",
    "pyplot.streamplot(X, Y, u, v, density=1, linewidth=1, arrowsize=1, arrowstyle='->')\n",
    "pyplot.scatter(x_source, y_source, color='#CD2305', s=10, marker='o')"
   ]
  },
  {
   "cell_type": "markdown",
   "metadata": {},
   "source": [
    "# Distribution of the pressure coefficient and a single marker on the location of the maximum pressure"
   ]
  },
  {
   "cell_type": "code",
   "execution_count": 15,
   "metadata": {
    "collapsed": false
   },
   "outputs": [
    {
     "data": {
      "text/plain": [
       "<matplotlib.collections.PathCollection at 0x7f52d18b0cf8>"
      ]
     },
     "execution_count": 15,
     "metadata": {},
     "output_type": "execute_result"
    },
    {
     "data": {
      "image/png": "[encoded data removed]",
      "text/plain": [
       "<matplotlib.figure.Figure at 0x7f52dc18a0b8>"
      ]
     },
     "metadata": {},
     "output_type": "display_data"
    }
   ],
   "source": [
    "# compute the pressure coefficient field\n",
    "cp = 1.0 - (u**2+v**2)/u_inf**2\n",
    "\n",
    "# plot the pressure coefficient field\n",
    "size = 10\n",
    "pyplot.figure(figsize=(size, (y_end-y_start)/(x_end-x_start)*size))\n",
    "pyplot.xlabel('x', fontsize=16)\n",
    "pyplot.ylabel('y', fontsize=16)\n",
    "pyplot.xlim(x_start, x_end)\n",
    "pyplot.ylim(y_start, y_end)\n",
    "contf = pyplot.contourf(X, Y, cp, levels=numpy.linspace(-2, 1, 100), extend='both')\n",
    "cbar = pyplot.colorbar(contf)\n",
    "cbar.set_label('$C_p$', fontsize=16)\n",
    "cbar.set_ticks([-2, -1.0, 0.0, 1.0])\n",
    "pyplot.scatter(x_source, y_source, color='#CD2305', s=10, marker='o')\n",
    "pyplot.scatter(X[1][numpy.argmax(cp)%N], Y[numpy.argmax(cp)//N][1], color='b', s=80, marker='o')"
   ]
  },
  {
   "cell_type": "code",
   "execution_count": 16,
   "metadata": {
    "collapsed": false
   },
   "outputs": [
    {
     "data": {
      "text/plain": [
       "25"
      ]
     },
     "execution_count": 16,
     "metadata": {},
     "output_type": "execute_result"
    }
   ],
   "source": [
    "numpy.argmax(cp)//N"
   ]
  },
  {
   "cell_type": "code",
   "execution_count": 17,
   "metadata": {
    "collapsed": false
   },
   "outputs": [
    {
     "data": {
      "text/plain": [
       "16"
      ]
     },
     "execution_count": 17,
     "metadata": {},
     "output_type": "execute_result"
    }
   ],
   "source": [
    "numpy.argmax(cp)%N"
   ]
  },
  {
   "cell_type": "code",
   "execution_count": 18,
   "metadata": {
    "collapsed": false
   },
   "outputs": [
    {
     "data": {
      "text/plain": [
       "array([[ 0.01079599,  0.01133045,  0.01186118, ...,  0.00961254,\n",
       "         0.00913407,  0.00867186],\n",
       "       [ 0.01115424,  0.01174522,  0.01234275, ...,  0.0099216 ,\n",
       "         0.00940245,  0.00890569],\n",
       "       [ 0.01151041,  0.01215898,  0.01282506, ...,  0.01022856,\n",
       "         0.00966822,  0.00913663],\n",
       "       ..., \n",
       "       [ 0.01151041,  0.01215898,  0.01282506, ...,  0.01022856,\n",
       "         0.00966822,  0.00913663],\n",
       "       [ 0.01115424,  0.01174522,  0.01234275, ...,  0.0099216 ,\n",
       "         0.00940245,  0.00890569],\n",
       "       [ 0.01079599,  0.01133045,  0.01186118, ...,  0.00961254,\n",
       "         0.00913407,  0.00867186]])"
      ]
     },
     "execution_count": 18,
     "metadata": {},
     "output_type": "execute_result"
    }
   ],
   "source": [
    "cp"
   ]
  },
  {
   "cell_type": "code",
   "execution_count": 19,
   "metadata": {
    "collapsed": false
   },
   "outputs": [
    {
     "data": {
      "text/plain": [
       "(51, 51)"
      ]
     },
     "execution_count": 19,
     "metadata": {},
     "output_type": "execute_result"
    }
   ],
   "source": [
    "numpy.shape(cp)"
   ]
  },
  {
   "cell_type": "code",
   "execution_count": null,
   "metadata": {
    "collapsed": true
   },
   "outputs": [],
   "source": []
  }
 ],
 "metadata": {
  "anaconda-cloud": {},
  "kernelspec": {
   "display_name": "Python [conda root]",
   "language": "python",
   "name": "conda-root-py"
  },
  "language_info": {
   "codemirror_mode": {
    "name": "ipython",
    "version": 3
   },
   "file_extension": ".py",
   "mimetype": "text/x-python",
   "name": "python",
   "nbconvert_exporter": "python",
   "pygments_lexer": "ipython3",
   "version": "3.5.2"
  }
 },
 "nbformat": 4,
 "nbformat_minor": 1
}
