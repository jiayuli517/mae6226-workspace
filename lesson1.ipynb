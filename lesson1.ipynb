{
 "cells": [
  {
   "cell_type": "code",
   "execution_count": 1,
   "metadata": {
    "collapsed": true
   },
   "outputs": [],
   "source": [
    "import math\n",
    "import numpy\n",
    "from matplotlib import pyplot"
   ]
  },
  {
   "cell_type": "code",
   "execution_count": 2,
   "metadata": {
    "collapsed": false
   },
   "outputs": [
    {
     "name": "stdout",
     "output_type": "stream",
     "text": [
      "x= [-2.         -1.91836735 -1.83673469 -1.75510204 -1.67346939 -1.59183673\n",
      " -1.51020408 -1.42857143 -1.34693878 -1.26530612 -1.18367347 -1.10204082\n",
      " -1.02040816 -0.93877551 -0.85714286 -0.7755102  -0.69387755 -0.6122449\n",
      " -0.53061224 -0.44897959 -0.36734694 -0.28571429 -0.20408163 -0.12244898\n",
      " -0.04081633  0.04081633  0.12244898  0.20408163  0.28571429  0.36734694\n",
      "  0.44897959  0.53061224  0.6122449   0.69387755  0.7755102   0.85714286\n",
      "  0.93877551  1.02040816  1.10204082  1.18367347  1.26530612  1.34693878\n",
      "  1.42857143  1.51020408  1.59183673  1.67346939  1.75510204  1.83673469\n",
      "  1.91836735  2.        ]\n",
      "y= [-1.         -0.95918367 -0.91836735 -0.87755102 -0.83673469 -0.79591837\n",
      " -0.75510204 -0.71428571 -0.67346939 -0.63265306 -0.59183673 -0.55102041\n",
      " -0.51020408 -0.46938776 -0.42857143 -0.3877551  -0.34693878 -0.30612245\n",
      " -0.26530612 -0.2244898  -0.18367347 -0.14285714 -0.10204082 -0.06122449\n",
      " -0.02040816  0.02040816  0.06122449  0.10204082  0.14285714  0.18367347\n",
      "  0.2244898   0.26530612  0.30612245  0.34693878  0.3877551   0.42857143\n",
      "  0.46938776  0.51020408  0.55102041  0.59183673  0.63265306  0.67346939\n",
      "  0.71428571  0.75510204  0.79591837  0.83673469  0.87755102  0.91836735\n",
      "  0.95918367  1.        ]\n"
     ]
    }
   ],
   "source": [
    "N=50\n",
    "x_start, x_end=-2.0, 2.0\n",
    "y_start, y_end=-1.0, 1.0\n",
    "x=numpy.linspace(x_start, x_end, N)\n",
    "y=numpy.linspace(y_start, y_end, N)\n",
    "\n",
    "print('x=', x)\n",
    "print('y=', y)\n",
    "\n",
    "X,Y= numpy.meshgrid(x,y)"
   ]
  },
  {
   "cell_type": "code",
   "execution_count": 3,
   "metadata": {
    "collapsed": false
   },
   "outputs": [
    {
     "data": {
      "text/plain": [
       "<matplotlib.collections.PathCollection at 0x7f2dade51668>"
      ]
     },
     "execution_count": 3,
     "metadata": {},
     "output_type": "execute_result"
    },
    {
     "data": {
      "image/png": "[encoded data removed]",
      "text/plain": [
       "<matplotlib.figure.Figure at 0x7f2db44edcf8>"
      ]
     },
     "metadata": {},
     "output_type": "display_data"
    }
   ],
   "source": [
    "%matplotlib inline\n",
    "size=10\n",
    "pyplot.figure(figsize=(size, (y_end-y_start)/(x_end-x_start)*size))\n",
    "pyplot.xlabel('x',fontsize=16)\n",
    "pyplot.ylabel('y',fontsize=16)\n",
    "pyplot.xlim(x_start, x_end)\n",
    "pyplot.ylim(y_start, y_end)\n",
    "pyplot.scatter(X, Y, s=10, color='#CD2305', marker='s',linewidth=0)"
   ]
  },
  {
   "cell_type": "code",
   "execution_count": 4,
   "metadata": {
    "collapsed": false
   },
   "outputs": [
    {
     "data": {
      "text/plain": [
       "(50, 50)"
      ]
     },
     "execution_count": 4,
     "metadata": {},
     "output_type": "execute_result"
    }
   ],
   "source": [
    "numpy.shape(X)"
   ]
  },
  {
   "cell_type": "code",
   "execution_count": 6,
   "metadata": {
    "collapsed": false
   },
   "outputs": [
    {
     "data": {
      "text/plain": [
       "(50,)"
      ]
     },
     "execution_count": 6,
     "metadata": {},
     "output_type": "execute_result"
    }
   ],
   "source": [
    "numpy.shape(x)"
   ]
  },
  {
   "cell_type": "code",
   "execution_count": 7,
   "metadata": {
    "collapsed": false
   },
   "outputs": [
    {
     "data": {
      "text/plain": [
       "array([[-2.        , -1.91836735, -1.83673469, ...,  1.83673469,\n",
       "         1.91836735,  2.        ],\n",
       "       [-2.        , -1.91836735, -1.83673469, ...,  1.83673469,\n",
       "         1.91836735,  2.        ],\n",
       "       [-2.        , -1.91836735, -1.83673469, ...,  1.83673469,\n",
       "         1.91836735,  2.        ],\n",
       "       ..., \n",
       "       [-2.        , -1.91836735, -1.83673469, ...,  1.83673469,\n",
       "         1.91836735,  2.        ],\n",
       "       [-2.        , -1.91836735, -1.83673469, ...,  1.83673469,\n",
       "         1.91836735,  2.        ],\n",
       "       [-2.        , -1.91836735, -1.83673469, ...,  1.83673469,\n",
       "         1.91836735,  2.        ]])"
      ]
     },
     "execution_count": 7,
     "metadata": {},
     "output_type": "execute_result"
    }
   ],
   "source": [
    "X"
   ]
  },
  {
   "cell_type": "code",
   "execution_count": 8,
   "metadata": {
    "collapsed": true
   },
   "outputs": [],
   "source": [
    "?numpy.meshgrid"
   ]
  },
  {
   "cell_type": "code",
   "execution_count": 10,
   "metadata": {
    "collapsed": false
   },
   "outputs": [],
   "source": [
    "strength_source = 5.0\n",
    "x_source, y_source = -1.0, 0.0\n",
    "u_source = strength_source/(2*math.pi) * (X-x_source)/((X-x_source)**2 +(Y-y_source)**2)\n",
    "v_source = strength_source/(2*math.pi) * (Y-y_source)/((X-x_source)**2 +(Y-y_source)**2)"
   ]
  },
  {
   "cell_type": "code",
   "execution_count": null,
   "metadata": {
    "collapsed": true
   },
   "outputs": [],
   "source": [
    "size=10\n",
    "pyplot.figure(figsize=(size, (y_end-y_start)/(x_end-x_start)*size))\n",
    "pyplot.xlabel('x', fontsize=16)\n",
    "pyplot.ylabel('y', fontsize=16)\n",
    "pyplot.xlim(x_start, x_end)\n",
    "pyplot.ylim(y_start, y_end)\n",
    "pyplot.streamplot(X, Y, u_source, v_source, density=2, linewidth=1, arrowsize=2, arrowstyle='->')\n",
    "pyplot.scatter(x_source, y_source, color='#CD2305', s=80, marker='o', linewidth=0);"
   ]
  }
 ],
 "metadata": {
  "anaconda-cloud": {},
  "kernelspec": {
   "display_name": "Python [conda root]",
   "language": "python",
   "name": "conda-root-py"
  },
  "language_info": {
   "codemirror_mode": {
    "name": "ipython",
    "version": 3
   },
   "file_extension": ".py",
   "mimetype": "text/x-python",
   "name": "python",
   "nbconvert_exporter": "python",
   "pygments_lexer": "ipython3",
   "version": "3.5.2"
  }
 },
 "nbformat": 4,
 "nbformat_minor": 1
}
