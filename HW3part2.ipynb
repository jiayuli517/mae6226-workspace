{
 "cells": [
  {
   "cell_type": "markdown",
   "metadata": {},
   "source": [
    "# Part 2: Wenzinger's test case"
   ]
  },
  {
   "cell_type": "code",
   "execution_count": 1,
   "metadata": {
    "collapsed": true
   },
   "outputs": [],
   "source": [
    "#Importing the libraries and modules we need.\n",
    "import numpy\n",
    "import math\n",
    "from scipy import integrate, linalg\n",
    "from matplotlib import pyplot\n",
    "#The next line allows as to plot directly in the notebook.\n",
    "%matplotlib inline"
   ]
  },
  {
   "cell_type": "code",
   "execution_count": 2,
   "metadata": {
    "collapsed": false
   },
   "outputs": [],
   "source": [
    "# loading the geometry from a data file\n",
    "x_naca, y_naca = numpy.loadtxt('NACA23012_MainFoil.csv', dtype=float, delimiter=',', unpack=True)\n",
    "x_naca_flap, y_naca_flap = numpy.loadtxt('NACA23012_FlapFoil.csv',dtype=float, delimiter=',', unpack=True)"
   ]
  },
  {
   "cell_type": "code",
   "execution_count": 3,
   "metadata": {
    "collapsed": false
   },
   "outputs": [
    {
     "data": {
      "image/png": "[encoded data removed]",
      "text/plain": [
       "<matplotlib.figure.Figure at 0x7f48189ea080>"
      ]
     },
     "metadata": {},
     "output_type": "display_data"
    }
   ],
   "source": [
    "# plots the geometry\n",
    "\n",
    "pyplot.grid(True)\n",
    "pyplot.xlabel('x', fontsize=16)\n",
    "pyplot.ylabel('y', fontsize=16)\n",
    "pyplot.xlim(-0.2, 1.4)\n",
    "pyplot.ylim(-0.4, 0.4)\n",
    "\n",
    "x_h, y_h = 1.03, -0.054 #hinge\n",
    "\n",
    "pyplot.plot(x_naca, y_naca, color='b', linestyle='-', linewidth=2)\n",
    "pyplot.plot(x_naca_flap, y_naca_flap, color='r', linestyle='-', linewidth=2)\n",
    "pyplot.scatter(x_h, y_h, color='k', marker='x');"
   ]
  },
  {
   "cell_type": "code",
   "execution_count": 4,
   "metadata": {
    "collapsed": true
   },
   "outputs": [],
   "source": [
    "def rotate(x,y,cx,cy, alpha):\n",
    "    \"\"\"\n",
    "    x,y : coordinates I want to rotate\n",
    "    cx, cy : point around I want to rotate\n",
    "    alpha: how many degrees I want to rotate \n",
    "    \"\"\"\n",
    "    \n",
    "    r = numpy.sqrt((x-cx)**2 + (y-cy)**2)\n",
    "    theta_initial = numpy.arccos((x-cx)/r)\n",
    "    theta_new = theta_initial - alpha/180.*numpy.pi\n",
    "    \n",
    "    x_rot = r*numpy.cos(theta_new) + cx\n",
    "    y_rot = r*numpy.sin(theta_new) + cy\n",
    "    \n",
    "    return x_rot, y_rot"
   ]
  },
  {
   "cell_type": "code",
   "execution_count": 5,
   "metadata": {
    "collapsed": true
   },
   "outputs": [],
   "source": [
    "alpha = 10. \n",
    "x_rot, y_rot = rotate(x_naca_flap, y_naca_flap, x_h, y_h, alpha)"
   ]
  },
  {
   "cell_type": "code",
   "execution_count": 6,
   "metadata": {
    "collapsed": false
   },
   "outputs": [
    {
     "data": {
      "image/png": "[encoded data removed]",
      "text/plain": [
       "<matplotlib.figure.Figure at 0x7f4818a14b00>"
      ]
     },
     "metadata": {},
     "output_type": "display_data"
    }
   ],
   "source": [
    "# plots the geometry\n",
    "\n",
    "pyplot.grid(True)\n",
    "pyplot.xlabel('x', fontsize=16)\n",
    "pyplot.ylabel('y', fontsize=16)\n",
    "pyplot.xlim(-0.2, 1.4)\n",
    "pyplot.ylim(-0.4, 0.4)\n",
    "\n",
    "pyplot.plot(x_naca, y_naca, color='b', linestyle='-', linewidth=2)\n",
    "pyplot.plot(x_rot, y_rot, color='r', linestyle='-', linewidth=2)\n",
    "pyplot.scatter(x_h, y_h, color='k', marker='x');"
   ]
  },
  {
   "cell_type": "code",
   "execution_count": 7,
   "metadata": {
    "collapsed": true
   },
   "outputs": [],
   "source": [
    "class Panel:\n",
    "    \"\"\"\n",
    "    Contains information related to a panel.\n",
    "    \"\"\"\n",
    "    def __init__(self, xa, ya, xb, yb):\n",
    "        \"\"\"\n",
    "        Initializes the panel.\n",
    "        \n",
    "        Sets the end-points and calculates the center, length,\n",
    "        and angle (with the x-axis) of the panel.\n",
    "        Defines if the panel is on the lower or upper surface of the geometry.\n",
    "        Initializes the source-sheet strength, tangential velocity,\n",
    "        and pressure coefficient to zero.\n",
    "        \n",
    "        Parameters\n",
    "        ----------\n",
    "        xa: float\n",
    "            x-coordinate of the first end-point.\n",
    "        ya: float\n",
    "            y-coordinate of the first end-point.\n",
    "        xb: float\n",
    "            x-coordinate of the second end-point.\n",
    "        yb: float\n",
    "            y-coordinate of the second end-point.\n",
    "        \"\"\"\n",
    "        self.xa, self.ya = xa, ya\n",
    "        self.xb, self.yb = xb, yb\n",
    "        \n",
    "        self.xc, self.yc = (xa+xb)/2, (ya+yb)/2       # control-point (center-point)\n",
    "        self.length = math.sqrt((xb-xa)**2+(yb-ya)**2)     # length of the panel\n",
    "        \n",
    "        # orientation of the panel (angle between x-axis and panel's normal)\n",
    "        if xb-xa <= 0.:\n",
    "            self.beta = math.acos((yb-ya)/self.length)\n",
    "        elif xb-xa > 0.:\n",
    "            self.beta = math.pi + math.acos(-(yb-ya)/self.length)\n",
    "        \n",
    "        # location of the panel\n",
    "        if self.beta <= math.pi:\n",
    "            self.loc = 'upper'\n",
    "        else:\n",
    "            self.loc = 'lower'\n",
    "        \n",
    "        self.sigma = 0.                             # source strength\n",
    "        self.vt = 0.                                # tangential velocity\n",
    "        self.cp = 0.         "
   ]
  },
  {
   "cell_type": "code",
   "execution_count": 8,
   "metadata": {
    "collapsed": true
   },
   "outputs": [],
   "source": [
    "def define_panels(x, y, N):\n",
    "    x, y = numpy.append(x, x[0]), numpy.append(y, y[0])    # extend arrays using numpy.append\n",
    "    panels = numpy.empty(N, dtype=object)\n",
    "    for i in range(N):\n",
    "        panels[i] = Panel(x[i], y[i], x[i+1], y[i+1])\n",
    "    \n",
    "    return panels"
   ]
  },
  {
   "cell_type": "code",
   "execution_count": 9,
   "metadata": {
    "collapsed": true
   },
   "outputs": [],
   "source": [
    "class Freestream:\n",
    "    \"\"\"\n",
    "    Freestream conditions.\n",
    "    \"\"\"\n",
    "    def __init__(self, U_inf, alpha=0.0):\n",
    "        \"\"\"\n",
    "        Sets the freestream speed and angle (with the x-axis).\n",
    "        \n",
    "        Parameters\n",
    "        ----------\n",
    "        u_inf: float, optional\n",
    "            Freestream speed;\n",
    "            default: 1.0.\n",
    "        alpha: float, optional\n",
    "            Angle of attack in degrees;\n",
    "            default: 0.0.\n",
    "        \"\"\"\n",
    "        self.U_inf = U_inf\n",
    "        self.alpha = alpha*math.pi/180          # degrees --> radians"
   ]
  },
  {
   "cell_type": "code",
   "execution_count": 10,
   "metadata": {
    "collapsed": true
   },
   "outputs": [],
   "source": [
    "def integral(x, y, panel, dxdk, dydk):\n",
    "    \"\"\"\n",
    "    Evaluates the contribution from a panel at a given point.\n",
    "    \n",
    "    Parameters\n",
    "    ----------\n",
    "    x: float\n",
    "        x-coordinate of the target point.\n",
    "    y: float\n",
    "        y-coordinate of the target point.\n",
    "    panel: Panel object\n",
    "        Panel whose contribution is evaluated.\n",
    "    dxdk: float\n",
    "        Value of the derivative of x in a certain direction.\n",
    "    dydk: float\n",
    "        Value of the derivative of y in a certain direction.\n",
    "    \n",
    "    Returns\n",
    "    -------\n",
    "    Contribution from the panel at a given point (x, y).\n",
    "    \"\"\"\n",
    "    def integrand(s):\n",
    "        return ( ((x - (panel.xa - numpy.sin(panel.beta)*s))*dxdk\n",
    "                  +(y - (panel.ya + numpy.cos(panel.beta)*s))*dydk)\n",
    "                / ((x - (panel.xa - numpy.sin(panel.beta)*s))**2\n",
    "                   +(y - (panel.ya + numpy.cos(panel.beta)*s))**2) )\n",
    "    return integrate.quad(integrand, 0.0, panel.length)[0]\n",
    "\n",
    "def source_matrix_normal(panels):\n",
    "    \"\"\"Builds the source matrix.\n",
    "    \n",
    "    Arguments\n",
    "    ---------\n",
    "    panels: array of panels.\n",
    "    \n",
    "    Returns\n",
    "    -------\n",
    "    A_n: NxN matrix (N is the number of panels).\n",
    "    \"\"\"\n",
    "    N = len(panels)\n",
    "    A_n = numpy.empty((N, N), dtype=float)\n",
    "    numpy.fill_diagonal(A_n, 0.5)\n",
    "    \n",
    "    for i, p_i in enumerate(panels):\n",
    "        for j, p_j in enumerate(panels):\n",
    "            if i != j:\n",
    "                A_n[i,j] = 0.5/numpy.pi*integral(p_i.xc, p_i.yc, p_j, numpy.cos(p_i.beta), numpy.sin(p_i.beta))\n",
    "                \n",
    "    return A_n\n",
    "\n",
    "def vortex_matrix_normal(panels):\n",
    "    \"\"\"Builds the vortex matrix.\n",
    "    \n",
    "    Arguments\n",
    "    ---------\n",
    "    panels: array of panels.\n",
    "    \n",
    "    Returns\n",
    "    -------\n",
    "    B_n: NxN matrix (N is the number of panels).\n",
    "    s_bn: 1D array (Nx1, N is the number of panels) \n",
    "         (is the sum over j of the coefficients ).\n",
    "    \"\"\"\n",
    "    N = len(panels)\n",
    "    B_n = numpy.empty((N, N), dtype=float)\n",
    "    numpy.fill_diagonal(B_n, 0.)\n",
    "    \n",
    "    for i, p_i in enumerate(panels):\n",
    "        for j, p_j in enumerate(panels):\n",
    "            if i != j:\n",
    "                B_n[i,j] = -0.5/numpy.pi*integral(p_i.xc, p_i.yc, p_j, numpy.sin(p_i.beta), -numpy.cos(p_i.beta))\n",
    "                \n",
    "    return B_n\n",
    "\n",
    "def vortex_arrays_normal(panels, B_n):\n",
    "    \"\"\"Builds the vortex array for normal matrix.\n",
    "    \n",
    "    Arguments\n",
    "    ---------\n",
    "    panels: array of panels.\n",
    "    B_n: NxN matrix (N is the number of panels). Vortex normal matrix\n",
    "    Returns\n",
    "    -------\n",
    "    a -- 1D array (Nx1, N is the number of panels).\n",
    "    \"\"\"\n",
    "    N = len(panels)\n",
    "    a1_n = numpy.zeros(panels.size, dtype=float)\n",
    "    a2_n = numpy.zeros(panels.size, dtype=float)\n",
    "    for i, p_i in enumerate(panels):\n",
    "        \n",
    "            a1_n[i] = numpy.sum(B_n[i,0:N/2]) \n",
    "            a2_n[i] = numpy.sum(B_n[i,N/2:])\n",
    "    \n",
    "    return a1_n , a2_n\n",
    "\n",
    "def A_normal(A_n, a1_n , a2_n, N):\n",
    "    \"\"\"Builds the normal matrix.\n",
    "    \n",
    "    Arguments\n",
    "    ---------\n",
    "    panels: array of panels.\n",
    "    A_n: NxN matrix (N is the number of panels). Vortex normal matrix\n",
    "    a1_n -- 1D array (Nx1, N is the number of panels).\n",
    "    a2_n -- 1D array (Nx1, N is the number of panels).\n",
    "    Returns\n",
    "    -------\n",
    "    A_normal: Nx(N+2) matrix (N is the number of panels).\n",
    "    \"\"\"\n",
    "\n",
    "    #Matrix A_normal (Nx(N+2))\n",
    "\n",
    "    A_normal = numpy.empty((N, N+2), dtype=float)\n",
    "\n",
    "    A_normal[0:N,0:N] = A_n[:,:]\n",
    "    A_normal[0:N,-2] = a1_n[:]\n",
    "    A_normal[0:N,-1] = a2_n[:]\n",
    "    \n",
    "    return A_normal\n",
    "\n",
    "def vortex_arrays_tangential(panels, A_n):\n",
    "    \"\"\"Builds the vortex array for normal matrix.\n",
    "    \n",
    "    Arguments\n",
    "    ---------\n",
    "    panels: array of panels.\n",
    "    A_n: NxN matrix (N is the number of panels). Source normal matrix\n",
    "    Returns\n",
    "    -------\n",
    "    a1_t -- 1D array (Nx1, N is the number of panels).\n",
    "    a2_t -- 1D array (Nx1, N is the number of panels).\n",
    "    \"\"\"\n",
    "    N = len(panels)\n",
    "    a1_t = numpy.zeros(panels.size, dtype=float)\n",
    "    a2_t = numpy.zeros(panels.size, dtype=float)\n",
    "    for i, p_i in enumerate(panels):\n",
    "        \n",
    "            a1_t[i] = numpy.sum(A_n[i,0:N/2]) \n",
    "            a2_t[i] = numpy.sum(A_n[i,N/2:])\n",
    "    \n",
    "    return a1_t , a2_t\n",
    "\n",
    "def A_tangential(B_n, a1_t , a2_t, N):\n",
    "    \"\"\"Builds the tangential matrix.\n",
    "    \n",
    "    Arguments\n",
    "    ---------\n",
    "    panels: array of panels.\n",
    "    B_n: NxN matrix (N is the number of panels). Vortex normal matrix\n",
    "    \n",
    "    Returns\n",
    "    -------\n",
    "    A_tangential: Nx(N+2) matrix (N is the number of panels).\n",
    "    \"\"\"\n",
    "\n",
    "    #Matrix A_tangential (Nx(N+2))\n",
    "\n",
    "    A_tangential = numpy.empty((N, N+2), dtype=float)\n",
    "\n",
    "    A_tangential[0:N,0:N] = B_n[:,:]\n",
    "    A_tangential[0:N,-2] = -a1_t[:]\n",
    "    A_tangential[0:N,-1] = -a2_t[:]\n",
    "    \n",
    "    return A_tangential\n",
    "\n",
    "#Kutta arrays\n",
    "\n",
    "def kutta_arrays(A_tangential, N):\n",
    "    \"\"\"Builds the kutta arrays.\n",
    "    \n",
    "    Arguments\n",
    "    ---------\n",
    "    A_tangential: Nx(N+2) matrix (N is the number of panels).\n",
    "    \n",
    "    Returns\n",
    "    -------\n",
    "    k_a1 -- 1D array ((N+2)x1, N is the number of panels). kutta array 1\n",
    "    k_a2 -- 1D array ((N+2)x1, N is the number of panels). kutta array 2\n",
    "    \"\"\"\n",
    "    k_a1 = numpy.zeros(N+2,dtype=float)\n",
    "    k_a2 = numpy.zeros(N+2,dtype=float)\n",
    "\n",
    "    k_a1 = A_tangential[0,:] + A_tangential[N/2-1,:]\n",
    "    k_a2 = A_tangential[N/2,:] + A_tangential[N-1,:]\n",
    "    \n",
    "    return k_a1, k_a2\n",
    "\n",
    "def build_matrix(panels, A_normal, k_a1, k_a2):\n",
    "    \"\"\"Builds the matrix of the linear system.\n",
    "    \n",
    "    Arguments\n",
    "    ---------\n",
    "    panels: array of panels.\n",
    "    A_n: matrix normal\n",
    "    k_a1: Kutta array 1\n",
    "    k_a2: Kutta array 2\n",
    "    \n",
    "    Returns\n",
    "    -------\n",
    "    A -- (N+2)x(N+2) matrix (N is the number of panels).\n",
    "    \"\"\"\n",
    "    N = len(panels)\n",
    "    A = numpy.empty((N+2, N+2), dtype=float)\n",
    "    \n",
    "    A[0:N,:] = A_normal[:,:]\n",
    "    A[-2,:] = k_a1[:]\n",
    "    A[-1,:] = k_a2[:]\n",
    "    \n",
    "    return A\n",
    "\n",
    "def build_rhs(panels, freestream):\n",
    "    \"\"\"Builds the RHS of the linear system.\n",
    "    \n",
    "    Arguments\n",
    "    ---------\n",
    "    panels: array of panels.\n",
    "    freestream: farfield conditions.\n",
    "    \n",
    "    Returns\n",
    "    -------\n",
    "    b: 1D array ((N+2)x1, N is the number of panels).\n",
    "    \"\"\"\n",
    "    N = len(panels)\n",
    "    b = numpy.empty(N+2,dtype=float)\n",
    "    \n",
    "    for i, panel in enumerate(panels):\n",
    "        b[i] = -freestream.U_inf * numpy.cos(freestream.alpha - panel.beta)\n",
    "    b[N] = -freestream.U_inf*( numpy.sin(freestream.alpha-panels[0].beta)\n",
    "                              +numpy.sin(freestream.alpha-panels[N/2-1].beta) )\n",
    "    b[N+1] = -freestream.U_inf*( numpy.sin(freestream.alpha-panels[N/2].beta)\n",
    "                              +numpy.sin(freestream.alpha-panels[N-1].beta) )\n",
    "    return b\n",
    "\n",
    "def get_tangential_velocity(panels, freestream, gamma1, gamma2, A_tangential):\n",
    "    \"\"\"Computes the tangential velocity on the surface.\n",
    "    \n",
    "    Arguments\n",
    "    ---------\n",
    "    panels -- array of panels.\n",
    "    freestream -- farfield conditions.\n",
    "    gamma1 -- circulation density of airfoil.\n",
    "    gamma2 -- circulation density of flap.\n",
    "    \n",
    "    \"\"\"\n",
    "    N = len(panels)\n",
    "\n",
    "    b = freestream.U_inf * numpy.sin([freestream.alpha - panel.beta for panel in panels])\n",
    "    \n",
    "    var1 = numpy.append([panel.sigma for panel in panels], gamma1)\n",
    "    var = numpy.append(var1, gamma2)\n",
    "    \n",
    "    vt = numpy.dot(A_tangential, var) + b\n",
    "    for i, panel in enumerate(panels):\n",
    "        panel.vt = vt[i]"
   ]
  },
  {
   "cell_type": "code",
   "execution_count": 11,
   "metadata": {
    "collapsed": true
   },
   "outputs": [],
   "source": [
    "def get_pressure_coefficient(panels, freestream):\n",
    "    \"\"\"Computes the surface pressure coefficients.\n",
    "    \n",
    "    Arguments\n",
    "    ---------\n",
    "    panels -- array of panels.\n",
    "    freestream -- farfield conditions.\n",
    "    \"\"\"\n",
    "    for panel in panels:\n",
    "        panel.cp = 1.0 - (panel.vt/freestream.U_inf)**2"
   ]
  },
  {
   "cell_type": "code",
   "execution_count": 12,
   "metadata": {
    "collapsed": true
   },
   "outputs": [],
   "source": [
    "def get_coefficients(panels):\n",
    "    L = 0.\n",
    "    D = 0.\n",
    "    for panel in panels:\n",
    "        L -= panel.cp*panel.length*numpy.sin(panel.beta)\n",
    "        D += panel.cp*panel.length*numpy.cos(panel.beta)\n",
    "    return L, D"
   ]
  },
  {
   "cell_type": "code",
   "execution_count": 13,
   "metadata": {
    "collapsed": true
   },
   "outputs": [],
   "source": [
    "def get_lift(aoa,aof):\n",
    "    \"\"\"\n",
    "    \"\"\"\n",
    "    #hinge\n",
    "    x_h, y_h = 1.03, -0.054\n",
    "    \n",
    "    #Rotate the flap\n",
    "    x_rot, y_rot = rotate(x_naca_flap, y_naca_flap, x_h, y_h, aof)\n",
    "    \n",
    "    # define freestream conditions \n",
    "    \n",
    "    freestream = Freestream(1, aoa)\n",
    "    \n",
    "    #Generate panels \n",
    "    \n",
    "    Np=len(x_naca)-1\n",
    "    \n",
    "    panels_airfoil = define_panels(x_naca, y_naca, Np)   # discretizes of the airfoil into panels\n",
    "\n",
    "    panels_flap = define_panels(x_rot, y_rot, Np )   # discretizes of the flap into panels\n",
    "\n",
    "    #Put all the panels together\n",
    "    \n",
    "    panels = numpy.concatenate((panels_airfoil, panels_flap))\n",
    "    \n",
    "    N = 2*Np #Redifining N, so when we do slices in N we are talking about N=N_airfoil+N_flap\n",
    "\n",
    "    # Parts of matrix A_normal\n",
    "    A_n = source_matrix_normal(panels)\n",
    "    \n",
    "    B_n = vortex_matrix_normal(panels)\n",
    "    a1_n , a2_n = vortex_arrays_normal(panels, B_n)\n",
    "    \n",
    "    #Building A_normal\n",
    "    A_norm = A_normal(A_n, a1_n , a2_n, N)\n",
    "    \n",
    "    #Parts of A_tangential\n",
    "    a1_t , a2_t = vortex_arrays_normal(panels, A_n)\n",
    "    \n",
    "    #Building A_tangential\n",
    "    A_tan = A_tangential(B_n, a1_t , a2_t, N)\n",
    "\n",
    "    #Kutta array\n",
    "    k_a1, k_a2 = kutta_arrays(A_tan, N)\n",
    "    \n",
    "    #Building the linear system to solve the strength\n",
    "    \n",
    "    A = build_matrix(panels, A_norm, k_a1, k_a2)                 # calculates the singularity matrix\n",
    "    b = build_rhs(panels, freestream)         # calculates the freestream RHS\n",
    "    \n",
    "    # solves the linear system\n",
    "    variables = linalg.solve(A, b)\n",
    "\n",
    "    for i, panel in enumerate(panels):\n",
    "        panel.sigma = variables[i]\n",
    "    gamma1 = variables[-2]\n",
    "    gamma2 = variables[-1]\n",
    "\n",
    "    #Get the tangential velocity\n",
    "    get_tangential_velocity(panels, freestream, gamma1, gamma2, A_tan)\n",
    "\n",
    "    #computes surface pressure coefficient\n",
    "    get_pressure_coefficient(panels,freestream)    \n",
    "\n",
    "    #Get coefficients of Lift and Drag\n",
    "    L, D = get_coefficients(panels)\n",
    "\n",
    "    return L"
   ]
  },
  {
   "cell_type": "code",
   "execution_count": 14,
   "metadata": {
    "collapsed": true
   },
   "outputs": [],
   "source": [
    "def bisection(a, b, aof, tol):\n",
    "    \n",
    "    \n",
    "    L_a = get_lift(a, aof)\n",
    "    L_b = get_lift(b, aof)\n",
    "        \n",
    "    if numpy.sign(L_a) != numpy.sign(L_b):\n",
    "        aoa_c = (a+b)/2.\n",
    "        L_c = get_lift(aoa_c, aof)\n",
    "    \n",
    "   \n",
    "        if numpy.abs(L_c) < tol:\n",
    "            print ('The required angle of attack is')\n",
    "            print (aoa_c)\n",
    "        \n",
    "        else:\n",
    "            print ('please wait')\n",
    "            \n",
    "            if numpy.sign(L_c) == numpy.sign(L_a):\n",
    "                bisection(aoa_c, b, aof, tol)\n",
    "            else:\n",
    "                bisection(a, aoa_c, aof, tol)"
   ]
  },
  {
   "cell_type": "markdown",
   "metadata": {},
   "source": [
    "Q1： Use the bisection method to determine the angle of attack, that will cause zero lift when the flap angle is 20. Round your answer to the second digit after the floating point."
   ]
  },
  {
   "cell_type": "code",
   "execution_count": 15,
   "metadata": {
    "collapsed": false
   },
   "outputs": [
    {
     "name": "stderr",
     "output_type": "stream",
     "text": [
      "/home/gil/anaconda3/lib/python3.5/site-packages/ipykernel/__main__.py:91: VisibleDeprecationWarning: using a non-integer number instead of an integer will result in an error in the future\n",
      "/home/gil/anaconda3/lib/python3.5/site-packages/ipykernel/__main__.py:92: VisibleDeprecationWarning: using a non-integer number instead of an integer will result in an error in the future\n",
      "/home/gil/anaconda3/lib/python3.5/site-packages/ipykernel/__main__.py:182: VisibleDeprecationWarning: using a non-integer number instead of an integer will result in an error in the future\n",
      "/home/gil/anaconda3/lib/python3.5/site-packages/ipykernel/__main__.py:183: VisibleDeprecationWarning: using a non-integer number instead of an integer will result in an error in the future\n",
      "/home/gil/anaconda3/lib/python3.5/site-packages/ipykernel/__main__.py:228: VisibleDeprecationWarning: using a non-integer number instead of an integer will result in an error in the future\n",
      "/home/gil/anaconda3/lib/python3.5/site-packages/ipykernel/__main__.py:229: VisibleDeprecationWarning: using a non-integer number instead of an integer will result in an error in the future\n"
     ]
    },
    {
     "name": "stdout",
     "output_type": "stream",
     "text": [
      "please wait\n",
      "please wait\n",
      "please wait\n",
      "please wait\n",
      "please wait\n",
      "please wait\n",
      "please wait\n",
      "please wait\n",
      "please wait\n",
      "The required angle of attack is\n",
      "-10.96484375\n"
     ]
    }
   ],
   "source": [
    "bisection(-14,14,20,0.001)"
   ]
  },
  {
   "cell_type": "markdown",
   "metadata": {},
   "source": [
    "Q2： Use the bisection method to determine the flap angle that will cause zero lift when the angle of attack, is 0. Round your answer to the second digit after the floating point."
   ]
  },
  {
   "cell_type": "code",
   "execution_count": 16,
   "metadata": {
    "collapsed": true
   },
   "outputs": [],
   "source": [
    "def bisection_for_aof(a, b, aoa, tol):\n",
    "    \"\"\"Uses bisection method for solving angles of flap to obtain\n",
    "    zero lift at fixed angle of attack.\n",
    "    \n",
    "    Parameters\n",
    "    ---------\n",
    "    a -- interval start.\n",
    "    b -- interval stop.\n",
    "    aoa -- angle of attack.\n",
    "    tol -- tolerence.\n",
    "    \n",
    "    Returns\n",
    "    ---------\n",
    "    aof_c -- angle of attak when lift is zero.\n",
    "    \"\"\"\n",
    "    \n",
    "    L_a = get_lift(aoa, a)\n",
    "    L_b = get_lift(aoa, b)\n",
    "    \n",
    "    if numpy.sign(L_a) != numpy.sign(L_b):\n",
    "        \n",
    "        aof_c = (a+b)/2.\n",
    "        L_c = get_lift(aoa, aof_c)\n",
    "   \n",
    "        if numpy.abs(L_c) < tol:\n",
    "            print ('The required angle of flap is')\n",
    "            print (aof_c)\n",
    "            \n",
    "        else:\n",
    "            print ('please wait')\n",
    "            \n",
    "            if numpy.sign(L_c) == numpy.sign(L_a):\n",
    "                bisection_for_aof(aof_c, b, aoa, tol)\n",
    "            else:\n",
    "                bisection_for_aof(a, aof_c, aoa, tol)"
   ]
  },
  {
   "cell_type": "code",
   "execution_count": 17,
   "metadata": {
    "collapsed": false
   },
   "outputs": [
    {
     "name": "stderr",
     "output_type": "stream",
     "text": [
      "/home/gil/anaconda3/lib/python3.5/site-packages/ipykernel/__main__.py:91: VisibleDeprecationWarning: using a non-integer number instead of an integer will result in an error in the future\n",
      "/home/gil/anaconda3/lib/python3.5/site-packages/ipykernel/__main__.py:92: VisibleDeprecationWarning: using a non-integer number instead of an integer will result in an error in the future\n",
      "/home/gil/anaconda3/lib/python3.5/site-packages/ipykernel/__main__.py:182: VisibleDeprecationWarning: using a non-integer number instead of an integer will result in an error in the future\n",
      "/home/gil/anaconda3/lib/python3.5/site-packages/ipykernel/__main__.py:183: VisibleDeprecationWarning: using a non-integer number instead of an integer will result in an error in the future\n",
      "/home/gil/anaconda3/lib/python3.5/site-packages/ipykernel/__main__.py:228: VisibleDeprecationWarning: using a non-integer number instead of an integer will result in an error in the future\n",
      "/home/gil/anaconda3/lib/python3.5/site-packages/ipykernel/__main__.py:229: VisibleDeprecationWarning: using a non-integer number instead of an integer will result in an error in the future\n"
     ]
    },
    {
     "name": "stdout",
     "output_type": "stream",
     "text": [
      "please wait\n",
      "please wait\n",
      "please wait\n",
      "please wait\n",
      "please wait\n",
      "please wait\n",
      "please wait\n",
      "please wait\n",
      "please wait\n",
      "The required angle of flap is\n",
      "-4.51171875\n"
     ]
    }
   ],
   "source": [
    "bisection_for_aof(-10,10,0,0.001)"
   ]
  },
  {
   "cell_type": "markdown",
   "metadata": {},
   "source": [
    "Q3: Suppose that the main airfoil is attached to the fuselage of an airplane at an incidence angle of 4, (that is, the built-in angle of attack of the wing when the airplane is in level flight is 4). Compute the lift coefficient with the flap at 0, deflection, and at 5, 10 and 15 degrees. How much slower (in percentage) can the airplane fly (in level flight) with the flaps extended at these settings, compared with 0?"
   ]
  },
  {
   "cell_type": "code",
   "execution_count": 18,
   "metadata": {
    "collapsed": false
   },
   "outputs": [
    {
     "name": "stderr",
     "output_type": "stream",
     "text": [
      "/home/gil/anaconda3/lib/python3.5/site-packages/ipykernel/__main__.py:91: VisibleDeprecationWarning: using a non-integer number instead of an integer will result in an error in the future\n",
      "/home/gil/anaconda3/lib/python3.5/site-packages/ipykernel/__main__.py:92: VisibleDeprecationWarning: using a non-integer number instead of an integer will result in an error in the future\n",
      "/home/gil/anaconda3/lib/python3.5/site-packages/ipykernel/__main__.py:182: VisibleDeprecationWarning: using a non-integer number instead of an integer will result in an error in the future\n",
      "/home/gil/anaconda3/lib/python3.5/site-packages/ipykernel/__main__.py:183: VisibleDeprecationWarning: using a non-integer number instead of an integer will result in an error in the future\n",
      "/home/gil/anaconda3/lib/python3.5/site-packages/ipykernel/__main__.py:228: VisibleDeprecationWarning: using a non-integer number instead of an integer will result in an error in the future\n",
      "/home/gil/anaconda3/lib/python3.5/site-packages/ipykernel/__main__.py:229: VisibleDeprecationWarning: using a non-integer number instead of an integer will result in an error in the future\n"
     ]
    }
   ],
   "source": [
    "# compute lift for fixed aoa=4, varying aof=0,5,10,15\n",
    "lift_aof_0 = get_lift(4, 0)\n",
    "lift_aof_5 = get_lift(4, 5)\n",
    "lift_aof_10 = get_lift(4, 10)\n",
    "lift_aof_15 = get_lift(4, 15)"
   ]
  },
  {
   "cell_type": "code",
   "execution_count": 19,
   "metadata": {
    "collapsed": false
   },
   "outputs": [
    {
     "data": {
      "text/plain": [
       "14.514113635656356"
      ]
     },
     "execution_count": 19,
     "metadata": {},
     "output_type": "execute_result"
    }
   ],
   "source": [
    "(1-numpy.sqrt(lift_aof_0/lift_aof_5))*100"
   ]
  },
  {
   "cell_type": "code",
   "execution_count": 20,
   "metadata": {
    "collapsed": false
   },
   "outputs": [
    {
     "data": {
      "text/plain": [
       "24.212409015773339"
      ]
     },
     "execution_count": 20,
     "metadata": {},
     "output_type": "execute_result"
    }
   ],
   "source": [
    "(1-numpy.sqrt(lift_aof_0/lift_aof_10))*100"
   ]
  },
  {
   "cell_type": "code",
   "execution_count": 21,
   "metadata": {
    "collapsed": false
   },
   "outputs": [
    {
     "data": {
      "text/plain": [
       "31.280910327429279"
      ]
     },
     "execution_count": 21,
     "metadata": {},
     "output_type": "execute_result"
    }
   ],
   "source": [
    "(1-numpy.sqrt(lift_aof_0/lift_aof_15))*100"
   ]
  }
 ],
 "metadata": {
  "anaconda-cloud": {},
  "kernelspec": {
   "display_name": "Python [conda root]",
   "language": "python",
   "name": "conda-root-py"
  },
  "language_info": {
   "codemirror_mode": {
    "name": "ipython",
    "version": 3
   },
   "file_extension": ".py",
   "mimetype": "text/x-python",
   "name": "python",
   "nbconvert_exporter": "python",
   "pygments_lexer": "ipython3",
   "version": "3.5.2"
  }
 },
 "nbformat": 4,
 "nbformat_minor": 1
}
