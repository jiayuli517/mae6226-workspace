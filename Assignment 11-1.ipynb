{
 "cells": [
  {
   "cell_type": "markdown",
   "metadata": {},
   "source": [
    "# Vortex-panel Method for Lifting Bodies"
   ]
  },
  {
   "cell_type": "markdown",
   "metadata": {},
   "source": [
    "# Part 1: Williams' test case"
   ]
  },
  {
   "cell_type": "code",
   "execution_count": 1,
   "metadata": {
    "collapsed": true
   },
   "outputs": [],
   "source": [
    "import math\n",
    "import numpy\n",
    "from scipy import integrate, linalg\n",
    "from matplotlib import pyplot\n",
    "# embed the figures into the notebook\n",
    "%matplotlib inline"
   ]
  },
  {
   "cell_type": "code",
   "execution_count": 2,
   "metadata": {
    "collapsed": false
   },
   "outputs": [],
   "source": [
    "x_main, y_main = numpy.loadtxt('../AeroPython/lessons/resources/MainFoil_N=100.csv', dtype=float, delimiter=',', unpack=True)\n",
    "x_flap, y_flap = numpy.loadtxt('../AeroPython/lessons/resources/FlapFoil_N=100.csv', dtype=float, delimiter=',', unpack=True)"
   ]
  },
  {
   "cell_type": "code",
   "execution_count": 3,
   "metadata": {
    "collapsed": true
   },
   "outputs": [],
   "source": [
    "class Panel:\n",
    "    def __init__(self, xa, ya, xb, yb):\n",
    "        \n",
    "        self.xa, self.ya = xa, ya\n",
    "        self.xb, self.yb = xb, yb\n",
    "        \n",
    "        self.xc, self.yc = (xa+xb)/2, (ya+yb)/2       # control-point (center-point)\n",
    "        self.length = math.sqrt((xb-xa)**2+(yb-ya)**2)     # length of the panel\n",
    "        \n",
    "        # orientation of the panel (angle between x-axis and panel's normal)\n",
    "        if xb-xa <= 0.:\n",
    "            self.beta = math.acos((yb-ya)/self.length)\n",
    "        elif xb-xa > 0.:\n",
    "            self.beta = math.pi + math.acos(-(yb-ya)/self.length)\n",
    "        \n",
    "        # location of the panel\n",
    "        if self.beta <= math.pi:\n",
    "            self.loc = 'extrados'\n",
    "        else:\n",
    "            self.loc = 'intrados'\n",
    "        \n",
    "        self.sigma = 0.                             # source strength\n",
    "        self.vt = 0.                                # tangential velocity\n",
    "        self.cp = 0.                                # pressure coefficient"
   ]
  },
  {
   "cell_type": "code",
   "execution_count": 4,
   "metadata": {
    "collapsed": true
   },
   "outputs": [],
   "source": [
    "def define_panels(x, y, N):\n",
    "    x, y = numpy.append(x, x[0]), numpy.append(y, y[0])    # extend arrays using numpy.append\n",
    "    panels = numpy.empty(N, dtype=object)\n",
    "    for i in range(N):\n",
    "        panels[i] = Panel(x[i], y[i], x[i+1], y[i+1])\n",
    "    \n",
    "    return panels"
   ]
  },
  {
   "cell_type": "code",
   "execution_count": 5,
   "metadata": {
    "collapsed": false
   },
   "outputs": [],
   "source": [
    "Np=len(x_main)-1\n",
    "\n",
    "panels_main = define_panels(x_main, y_main, Np)   # discretizes of the airfoil into panels\n",
    "\n",
    "panels_flap = define_panels(x_flap, y_flap, Np)   # discretizes of the flap into panels\n",
    "\n",
    "#print numpy.shape(panels_airfoil)"
   ]
  },
  {
   "cell_type": "code",
   "execution_count": 6,
   "metadata": {
    "collapsed": false
   },
   "outputs": [
    {
     "data": {
      "text/plain": [
       "100"
      ]
     },
     "execution_count": 6,
     "metadata": {},
     "output_type": "execute_result"
    }
   ],
   "source": [
    "Np"
   ]
  },
  {
   "cell_type": "code",
   "execution_count": 7,
   "metadata": {
    "collapsed": false
   },
   "outputs": [
    {
     "data": {
      "image/png": "[encoded data removed]",
      "text/plain": [
       "<matplotlib.figure.Figure at 0x7f5c13755d68>"
      ]
     },
     "metadata": {},
     "output_type": "display_data"
    }
   ],
   "source": [
    "# plots the geometry and the panels\n",
    "val_x, val_y = 0.1, 0.2\n",
    "x_min, x_max = min( panel.xa for panel in panels_main ), max( panel.xa for panel in panels_flap )\n",
    "y_min, y_max = min( panel.ya for panel in panels_flap ), max( panel.ya for panel in panels_main )\n",
    "x_start, x_end = x_min-val_x*(x_max-x_min), x_max+val_x*(x_max-x_min)\n",
    "y_start, y_end = y_min-val_y*(y_max-y_min), y_max+val_y*(y_max-y_min)\n",
    "\n",
    "size = 10\n",
    "pyplot.figure(figsize=(size, (y_end-y_start)/(x_end-x_start)*size))\n",
    "pyplot.grid(True)\n",
    "pyplot.xlabel('x', fontsize=16)\n",
    "pyplot.ylabel('y', fontsize=16)\n",
    "pyplot.xlim(x_start, x_end)\n",
    "pyplot.ylim(y_start, y_end)\n",
    "\n",
    "pyplot.plot(x_main, y_main, color='k', linestyle='-', linewidth=2)\n",
    "pyplot.plot(numpy.append([panel.xa for panel in panels_main], panels_main[0].xa), \n",
    "         numpy.append([panel.ya for panel in panels_main], panels_main[0].ya), \n",
    "         linestyle='-', linewidth=1, marker='o', markersize=6, color='r');\n",
    "\n",
    "pyplot.plot(x_flap, y_flap, color='k', linestyle='-', linewidth=2)\n",
    "pyplot.plot(numpy.append([panel.xa for panel in panels_flap], panels_flap[0].xa), \n",
    "         numpy.append([panel.ya for panel in panels_flap], panels_flap[0].ya), \n",
    "         linestyle='-', linewidth=1, marker='o', markersize=6, color='b');"
   ]
  },
  {
   "cell_type": "code",
   "execution_count": 8,
   "metadata": {
    "collapsed": true
   },
   "outputs": [],
   "source": [
    "class Freestream:\n",
    "    \"\"\"\n",
    "    Freestream conditions.\n",
    "    \"\"\"\n",
    "    def __init__(self, u_inf=1.0, alpha=0.0):\n",
    "        \"\"\"\n",
    "        Sets the freestream speed and angle (with the x-axis).\n",
    "        \n",
    "        Parameters\n",
    "        ----------\n",
    "        u_inf: float, optional\n",
    "            Freestream speed;\n",
    "            default: 1.0.\n",
    "        alpha: float, optional\n",
    "            Angle of attack in degrees;\n",
    "            default: 0.0.\n",
    "        \"\"\"\n",
    "        self.U_inf = U_inf\n",
    "        self.alpha = alpha*math.pi/180          # degrees --> radians"
   ]
  },
  {
   "cell_type": "code",
   "execution_count": 9,
   "metadata": {
    "collapsed": true
   },
   "outputs": [],
   "source": [
    "U_inf = 1.0                                # freestream spee\n",
    "alpha = 0.0                                # angle of attack (in degrees)\n",
    "freestream = Freestream(U_inf, alpha)      # instantiation of the object freestream"
   ]
  },
  {
   "cell_type": "code",
   "execution_count": 10,
   "metadata": {
    "collapsed": true
   },
   "outputs": [],
   "source": [
    "def integral(x, y, panel, dxdz, dydz):\n",
    "    def integrand(s):\n",
    "        return ( ((x - (panel.xa - math.sin(panel.beta)*s))*dxdz\n",
    "                  +(y - (panel.ya + math.cos(panel.beta)*s))*dydz)\n",
    "                / ((x - (panel.xa - math.sin(panel.beta)*s))**2\n",
    "                   +(y - (panel.ya + math.cos(panel.beta)*s))**2) )\n",
    "    return integrate.quad(integrand, 0.0, panel.length)[0]"
   ]
  },
  {
   "cell_type": "code",
   "execution_count": 11,
   "metadata": {
    "collapsed": true
   },
   "outputs": [],
   "source": [
    "N = 2*Np #Redifining N, so when we do slices in N we are talking about N=N_airfoil+N_flap\n",
    "panels = numpy.concatenate((panels_main, panels_flap))"
   ]
  },
  {
   "cell_type": "code",
   "execution_count": 12,
   "metadata": {
    "collapsed": false
   },
   "outputs": [
    {
     "data": {
      "text/plain": [
       "100"
      ]
     },
     "execution_count": 12,
     "metadata": {},
     "output_type": "execute_result"
    }
   ],
   "source": [
    "Np"
   ]
  },
  {
   "cell_type": "code",
   "execution_count": 13,
   "metadata": {
    "collapsed": false
   },
   "outputs": [
    {
     "data": {
      "text/plain": [
       "200"
      ]
     },
     "execution_count": 13,
     "metadata": {},
     "output_type": "execute_result"
    }
   ],
   "source": [
    "N"
   ]
  },
  {
   "cell_type": "code",
   "execution_count": 14,
   "metadata": {
    "collapsed": true
   },
   "outputs": [],
   "source": [
    "def source_matrix_normal(panels):\n",
    "    \"\"\"Builds the source matrix.\n",
    "    \n",
    "    Arguments\n",
    "    ---------\n",
    "    panels: array of panels.\n",
    "    \n",
    "    Returns\n",
    "    -------\n",
    "    A_n: NxN matrix (N is the number of panels).\n",
    "    \"\"\"\n",
    "    N = len(panels)\n",
    "    A_n = numpy.empty((N, N), dtype=float)\n",
    "    numpy.fill_diagonal(A_n, 0.5)\n",
    "    \n",
    "    for i, p_i in enumerate(panels):\n",
    "        for j, p_j in enumerate(panels):\n",
    "            if i != j:\n",
    "                A_n[i,j] = 0.5/numpy.pi*integral(p_i.xc, p_i.yc, p_j, numpy.cos(p_i.beta), numpy.sin(p_i.beta))\n",
    "                \n",
    "    return A_n"
   ]
  },
  {
   "cell_type": "code",
   "execution_count": 15,
   "metadata": {
    "collapsed": true
   },
   "outputs": [],
   "source": [
    "def vortex_matrix_normal(panels):\n",
    "    \"\"\"Builds the vortex matrix.\n",
    "    \n",
    "    Arguments\n",
    "    ---------\n",
    "    panels: array of panels.\n",
    "    \n",
    "    Returns\n",
    "    -------\n",
    "    B_n: NxN matrix (N is the number of panels).\n",
    "    s_bn: 1D array (Nx1, N is the number of panels) \n",
    "         (is the sum over j of the coefficients ).\n",
    "    \"\"\"\n",
    "    N = len(panels)\n",
    "    B_n = numpy.empty((N, N), dtype=float)\n",
    "    numpy.fill_diagonal(B_n, 0.)\n",
    "    \n",
    "    for i, p_i in enumerate(panels):\n",
    "        for j, p_j in enumerate(panels):\n",
    "            if i != j:\n",
    "                B_n[i,j] = -0.5/numpy.pi*integral(p_i.xc, p_i.yc, p_j, numpy.sin(p_i.beta), -numpy.cos(p_i.beta))\n",
    "                \n",
    "    return B_n"
   ]
  },
  {
   "cell_type": "code",
   "execution_count": 16,
   "metadata": {
    "collapsed": true
   },
   "outputs": [],
   "source": [
    "def vortex_arrays_normal(panels, B_n):\n",
    "    \"\"\"Builds the vortex array for normal matrix.\n",
    "    \n",
    "    Arguments\n",
    "    ---------\n",
    "    panels: array of panels.\n",
    "    B_n: NxN matrix (N is the number of panels). Vortex normal matrix\n",
    "    Returns\n",
    "    -------\n",
    "    a -- 1D array (Nx1, N is the number of panels).\n",
    "    \"\"\"\n",
    "    N = len(panels)\n",
    "    a1_n = numpy.zeros(panels.size, dtype=float)\n",
    "    a2_n = numpy.zeros(panels.size, dtype=float)\n",
    "    for i, p_i in enumerate(panels):\n",
    "        \n",
    "            a1_n[i] = numpy.sum(B_n[i,0:N/2]) \n",
    "            a2_n[i] = numpy.sum(B_n[i,N/2:])\n",
    "    \n",
    "    return a1_n , a2_n"
   ]
  },
  {
   "cell_type": "code",
   "execution_count": 17,
   "metadata": {
    "collapsed": false,
    "scrolled": true
   },
   "outputs": [
    {
     "name": "stderr",
     "output_type": "stream",
     "text": [
      "/home/gil/anaconda3/lib/python3.5/site-packages/ipykernel/__main__.py:17: VisibleDeprecationWarning: using a non-integer number instead of an integer will result in an error in the future\n",
      "/home/gil/anaconda3/lib/python3.5/site-packages/ipykernel/__main__.py:18: VisibleDeprecationWarning: using a non-integer number instead of an integer will result in an error in the future\n"
     ]
    }
   ],
   "source": [
    " #Redifining N, so when we do slices in N we are talking about N=N_airfoil+N_flap\n",
    "panels = numpy.concatenate((panels_main, panels_flap))\n",
    "A_n = source_matrix_normal(panels)\n",
    "B_n = vortex_matrix_normal(panels)\n",
    "a1_n , a2_n = vortex_arrays_normal(panels, B_n)"
   ]
  },
  {
   "cell_type": "code",
   "execution_count": 18,
   "metadata": {
    "collapsed": true
   },
   "outputs": [],
   "source": [
    "def A_normal(A_n, a1_n , a2_n, N):\n",
    "    \"\"\"Builds the normal matrix.\n",
    "    \n",
    "    Arguments\n",
    "    ---------\n",
    "    panels: array of panels.\n",
    "    A_n: NxN matrix (N is the number of panels). Vortex normal matrix\n",
    "    a1_n -- 1D array (Nx1, N is the number of panels).\n",
    "    a2_n -- 1D array (Nx1, N is the number of panels).\n",
    "    Returns\n",
    "    -------\n",
    "    A_normal: Nx(N+2) matrix (N is the number of panels).\n",
    "    \"\"\"\n",
    "\n",
    "    #Matrix A_normal (Nx(N+2))\n",
    "\n",
    "    A_normal = numpy.empty((N, N+2), dtype=float)\n",
    "\n",
    "    A_normal[0:N,0:N] = A_n[:,:]\n",
    "    A_normal[0:N,-2] = a1_n[:]\n",
    "    A_normal[0:N,-1] = a2_n[:]\n",
    "    \n",
    "    return A_normal"
   ]
  },
  {
   "cell_type": "code",
   "execution_count": 19,
   "metadata": {
    "collapsed": false
   },
   "outputs": [],
   "source": [
    "A_normal = A_normal(A_n, a1_n , a2_n, N)"
   ]
  },
  {
   "cell_type": "code",
   "execution_count": 20,
   "metadata": {
    "collapsed": true
   },
   "outputs": [],
   "source": [
    "def vortex_arrays_tangential(panels, A_n):\n",
    "    \"\"\"Builds the vortex array for normal matrix.\n",
    "    \n",
    "    Arguments\n",
    "    ---------\n",
    "    panels: array of panels.\n",
    "    A_n: NxN matrix (N is the number of panels). Source normal matrix\n",
    "    Returns\n",
    "    -------\n",
    "    a1_t -- 1D array (Nx1, N is the number of panels).\n",
    "    a2_t -- 1D array (Nx1, N is the number of panels).\n",
    "    \"\"\"\n",
    "    N = len(panels)\n",
    "    a1_t = numpy.zeros(panels.size, dtype=float)\n",
    "    a2_t = numpy.zeros(panels.size, dtype=float)\n",
    "    for i, p_i in enumerate(panels):\n",
    "        \n",
    "            a1_t[i] = numpy.sum(A_n[i,0:N/2]) \n",
    "            a2_t[i] = numpy.sum(A_n[i,N/2:])\n",
    "    \n",
    "    return a1_t , a2_t"
   ]
  },
  {
   "cell_type": "code",
   "execution_count": 21,
   "metadata": {
    "collapsed": false
   },
   "outputs": [
    {
     "name": "stderr",
     "output_type": "stream",
     "text": [
      "/home/gil/anaconda3/lib/python3.5/site-packages/ipykernel/__main__.py:18: VisibleDeprecationWarning: using a non-integer number instead of an integer will result in an error in the future\n",
      "/home/gil/anaconda3/lib/python3.5/site-packages/ipykernel/__main__.py:19: VisibleDeprecationWarning: using a non-integer number instead of an integer will result in an error in the future\n"
     ]
    }
   ],
   "source": [
    "a1_t , a2_t = vortex_arrays_tangential(panels, A_n)"
   ]
  },
  {
   "cell_type": "code",
   "execution_count": 22,
   "metadata": {
    "collapsed": true
   },
   "outputs": [],
   "source": [
    "def A_tangential(B_n, a1_t , a2_t, N):\n",
    "    \"\"\"Builds the tangential matrix.\n",
    "    \n",
    "    Arguments\n",
    "    ---------\n",
    "    panels: array of panels.\n",
    "    B_n: NxN matrix (N is the number of panels). Vortex normal matrix\n",
    "    \n",
    "    Returns\n",
    "    -------\n",
    "    A_tangential: Nx(N+2) matrix (N is the number of panels).\n",
    "    \"\"\"\n",
    "\n",
    "    #Matrix A_tangential (Nx(N+2))\n",
    "\n",
    "    A_tangential = numpy.empty((N, N+2), dtype=float)\n",
    "\n",
    "    A_tangential[0:N,0:N] = B_n[:,:]\n",
    "    A_tangential[0:N,-2] = -a1_t[:]\n",
    "    A_tangential[0:N,-1] = -a2_t[:]\n",
    "    \n",
    "    return A_tangential"
   ]
  },
  {
   "cell_type": "code",
   "execution_count": 23,
   "metadata": {
    "collapsed": false
   },
   "outputs": [],
   "source": [
    "A_tangential = A_tangential(B_n, a1_t , a2_t, N)"
   ]
  },
  {
   "cell_type": "code",
   "execution_count": 24,
   "metadata": {
    "collapsed": true
   },
   "outputs": [],
   "source": [
    "#Kutta arrays\n",
    "\n",
    "def kutta_arrays(A_tangential, N):\n",
    "    \"\"\"Builds the kutta arrays.\n",
    "    \n",
    "    Arguments\n",
    "    ---------\n",
    "    A_tangential: Nx(N+2) matrix (N is the number of panels).\n",
    "    \n",
    "    Returns\n",
    "    -------\n",
    "    k_a1 -- 1D array ((N+2)x1, N is the number of panels). kutta array 1\n",
    "    k_a2 -- 1D array ((N+2)x1, N is the number of panels). kutta array 2\n",
    "    \"\"\"\n",
    "    k_a1 = numpy.zeros(N+2,dtype=float)\n",
    "    k_a2 = numpy.zeros(N+2,dtype=float)\n",
    "\n",
    "    k_a1 = A_tangential[0,:] + A_tangential[N/2-1,:]\n",
    "    k_a2 = A_tangential[N/2,:] + A_tangential[N-1,:]\n",
    "    \n",
    "    return k_a1, k_a2"
   ]
  },
  {
   "cell_type": "code",
   "execution_count": 25,
   "metadata": {
    "collapsed": false
   },
   "outputs": [
    {
     "name": "stderr",
     "output_type": "stream",
     "text": [
      "/home/gil/anaconda3/lib/python3.5/site-packages/ipykernel/__main__.py:18: VisibleDeprecationWarning: using a non-integer number instead of an integer will result in an error in the future\n",
      "/home/gil/anaconda3/lib/python3.5/site-packages/ipykernel/__main__.py:19: VisibleDeprecationWarning: using a non-integer number instead of an integer will result in an error in the future\n"
     ]
    }
   ],
   "source": [
    "k_a1, k_a2 = kutta_arrays(A_tangential, N)"
   ]
  },
  {
   "cell_type": "code",
   "execution_count": 26,
   "metadata": {
    "collapsed": true
   },
   "outputs": [],
   "source": [
    "#The A matrix for the linear system\n",
    "\n",
    "def build_matrix(panels, A_normal, k_a1, k_a2):\n",
    "    \"\"\"Builds the matrix of the linear system.\n",
    "    \n",
    "    Arguments\n",
    "    ---------\n",
    "    panels: array of panels.\n",
    "    A_n: matrix normal\n",
    "    k_a1: Kutta array 1\n",
    "    k_a2: Kutta array 2\n",
    "    \n",
    "    Returns\n",
    "    -------\n",
    "    A -- (N+2)x(N+2) matrix (N is the number of panels).\n",
    "    \"\"\"\n",
    "    N = len(panels)\n",
    "    A = numpy.empty((N+2, N+2), dtype=float)\n",
    "    \n",
    "    A[0:N,:] = A_normal[:,:]\n",
    "    A[-2,:] = k_a1[:]\n",
    "    A[-1,:] = k_a2[:]\n",
    "    \n",
    "    return A"
   ]
  },
  {
   "cell_type": "code",
   "execution_count": 27,
   "metadata": {
    "collapsed": true
   },
   "outputs": [],
   "source": [
    "def build_rhs(panels, freestream):\n",
    "    \"\"\"Builds the RHS of the linear system.\n",
    "    \n",
    "    Arguments\n",
    "    ---------\n",
    "    panels: array of panels.\n",
    "    freestream: farfield conditions.\n",
    "    \n",
    "    Returns\n",
    "    -------\n",
    "    b: 1D array ((N+2)x1, N is the number of panels).\n",
    "    \"\"\"\n",
    "    N = len(panels)\n",
    "    b = numpy.empty(N+2,dtype=float)\n",
    "    \n",
    "    for i, panel in enumerate(panels):\n",
    "        b[i] = -freestream.U_inf * numpy.cos(freestream.alpha - panel.beta)\n",
    "    b[N] = -freestream.U_inf*( numpy.sin(freestream.alpha-panels[0].beta)\n",
    "                              +numpy.sin(freestream.alpha-panels[N/2-1].beta) )\n",
    "    b[N+1] = -freestream.U_inf*( numpy.sin(freestream.alpha-panels[N/2].beta)\n",
    "                              +numpy.sin(freestream.alpha-panels[N-1].beta) )\n",
    "    return b"
   ]
  },
  {
   "cell_type": "code",
   "execution_count": 28,
   "metadata": {
    "collapsed": false
   },
   "outputs": [
    {
     "name": "stderr",
     "output_type": "stream",
     "text": [
      "/home/gil/anaconda3/lib/python3.5/site-packages/ipykernel/__main__.py:19: VisibleDeprecationWarning: using a non-integer number instead of an integer will result in an error in the future\n",
      "/home/gil/anaconda3/lib/python3.5/site-packages/ipykernel/__main__.py:20: VisibleDeprecationWarning: using a non-integer number instead of an integer will result in an error in the future\n"
     ]
    }
   ],
   "source": [
    "A = build_matrix(panels, A_normal, k_a1, k_a2)                 # calculates the singularity matrix\n",
    "b = build_rhs(panels, freestream)         # calculates the freestream RHS"
   ]
  },
  {
   "cell_type": "code",
   "execution_count": 29,
   "metadata": {
    "collapsed": false
   },
   "outputs": [],
   "source": [
    "# solves the linear system\n",
    "variables = linalg.solve(A, b)\n",
    "\n",
    "for i, panel in enumerate(panels):\n",
    "    panel.sigma = variables[i]\n",
    "gamma1 = variables[-2]\n",
    "gamma2 = variables[-1]"
   ]
  },
  {
   "cell_type": "code",
   "execution_count": 30,
   "metadata": {
    "collapsed": true
   },
   "outputs": [],
   "source": [
    "def get_tangential_velocity(panels, freestream, gamma1, gamma2, A_tangential):\n",
    "    \"\"\"Computes the tangential velocity on the surface.\n",
    "    \n",
    "    Arguments\n",
    "    ---------\n",
    "    panels -- array of panels.\n",
    "    freestream -- farfield conditions.\n",
    "    gamma1 -- circulation density of airfoil.\n",
    "    gamma2 -- circulation density of flap.\n",
    "    \n",
    "    \"\"\"\n",
    "    N = len(panels)\n",
    "\n",
    "    b = freestream.U_inf * numpy.sin([freestream.alpha - panel.beta for panel in panels])\n",
    "    \n",
    "    var1 = numpy.append([panel.sigma for panel in panels], gamma1)\n",
    "    var = numpy.append(var1, gamma2)\n",
    "    \n",
    "    vt = numpy.dot(A_tangential, var) + b\n",
    "    for i, panel in enumerate(panels):\n",
    "        panel.vt = vt[i]"
   ]
  },
  {
   "cell_type": "code",
   "execution_count": 31,
   "metadata": {
    "collapsed": false
   },
   "outputs": [],
   "source": [
    "get_tangential_velocity(panels, freestream, gamma1, gamma2, A_tangential)"
   ]
  },
  {
   "cell_type": "code",
   "execution_count": 32,
   "metadata": {
    "collapsed": true
   },
   "outputs": [],
   "source": [
    "def get_pressure_coefficient(panels, freestream):\n",
    "    \"\"\"Computes the surface pressure coefficients.\n",
    "    \n",
    "    Arguments\n",
    "    ---------\n",
    "    panels -- array of panels.\n",
    "    freestream -- farfield conditions.\n",
    "    \"\"\"\n",
    "    for panel in panels:\n",
    "        panel.cp = 1.0 - (panel.vt/freestream.U_inf)**2"
   ]
  },
  {
   "cell_type": "code",
   "execution_count": 33,
   "metadata": {
    "collapsed": false
   },
   "outputs": [],
   "source": [
    "get_pressure_coefficient(panels, freestream)"
   ]
  },
  {
   "cell_type": "code",
   "execution_count": 34,
   "metadata": {
    "collapsed": false
   },
   "outputs": [],
   "source": [
    "x_main_t, cp_main_t = numpy.loadtxt('../AeroPython/lessons/resources/Cp_Main_theoretical.csv', delimiter=',', unpack=True)\n",
    "x_flap_t, cp_flap_t = numpy.loadtxt('../AeroPython/lessons/resources/Cp_Flap_theoretical.csv', delimiter=',', unpack=True)"
   ]
  },
  {
   "cell_type": "code",
   "execution_count": 35,
   "metadata": {
    "collapsed": false
   },
   "outputs": [
    {
     "name": "stderr",
     "output_type": "stream",
     "text": [
      "/home/gil/anaconda3/lib/python3.5/site-packages/ipykernel/__main__.py:9: VisibleDeprecationWarning: using a non-integer number instead of an integer will result in an error in the future\n",
      "/home/gil/anaconda3/lib/python3.5/site-packages/ipykernel/__main__.py:10: VisibleDeprecationWarning: using a non-integer number instead of an integer will result in an error in the future\n"
     ]
    },
    {
     "data": {
      "image/png": "[encoded data removed]",
      "text/plain": [
       "<matplotlib.figure.Figure at 0x7f5c120c7748>"
      ]
     },
     "metadata": {},
     "output_type": "display_data"
    }
   ],
   "source": [
    "val_x, val_y = 0.1, 0.2\n",
    "x_min, x_max = min( panel.xa for panel in panels ), max( panel.xa for panel in panels )\n",
    "cp_min, cp_max = min( panel.cp for panel in panels ), max( panel.cp for panel in panels )\n",
    "x_start, x_end = x_min-val_x*(x_max-x_min), x_max+val_x*(x_max-x_min)\n",
    "y_start, y_end = cp_min-val_y*(cp_max-cp_min), cp_max+val_y*(cp_max-cp_min)\n",
    "\n",
    "# plots the surface pressure coefficient\n",
    "N = len(panels)\n",
    "airfoil = panels[:N/2]\n",
    "flap = panels[N/2:]\n",
    "\n",
    "pyplot.figure(figsize=(10, 6))\n",
    "pyplot.grid(True)\n",
    "pyplot.xlabel('x', fontsize=16)\n",
    "pyplot.ylabel('$C_p$', fontsize=16)\n",
    "pyplot.plot([panel.xc for panel in airfoil if panel.loc == 'extrados'], \n",
    "         [panel.cp for panel in airfoil if panel.loc == 'extrados'], \n",
    "         color='#CD2305', linestyle='-', linewidth=2, marker='o', markersize=6)\n",
    "pyplot.plot([panel.xc for panel in flap if panel.loc == 'extrados'], \n",
    "         [panel.cp for panel in flap if panel.loc == 'extrados'], \n",
    "         color='r', linestyle='-', linewidth=2, marker='o', markersize=6)\n",
    "pyplot.plot([panel.xc for panel in airfoil if panel.loc == 'intrados'], \n",
    "         [panel.cp for panel in airfoil if panel.loc == 'intrados'], \n",
    "         color='b', linestyle='-', linewidth=1, marker='o', markersize=6)\n",
    "pyplot.plot([panel.xc for panel in flap if panel.loc == 'intrados'], \n",
    "         [panel.cp for panel in flap if panel.loc == 'intrados'], \n",
    "         color='b', linestyle='-', linewidth=1, marker='o', markersize=6)\n",
    "pyplot.plot(x_main_t, cp_main_t, 'k+', x_flap_t, cp_flap_t, 'k+')\n",
    "\n",
    "pyplot.xlim(x_start, x_end)\n",
    "pyplot.ylim(y_start, y_end)\n",
    "pyplot.gca().invert_yaxis()\n",
    "pyplot.title('Number of panels : %d' % Np);"
   ]
  },
  {
   "cell_type": "code",
   "execution_count": 36,
   "metadata": {
    "collapsed": false
   },
   "outputs": [],
   "source": [
    "def get_coefficients(panels):\n",
    "    L = 0.\n",
    "    D = 0.\n",
    "    for panel in panels:\n",
    "        L -= panel.cp*panel.length*numpy.sin(panel.beta)\n",
    "        D += panel.cp*panel.length*numpy.cos(panel.beta)\n",
    "    return L, D"
   ]
  },
  {
   "cell_type": "code",
   "execution_count": 37,
   "metadata": {
    "collapsed": false
   },
   "outputs": [],
   "source": [
    "L, D = get_coefficients(panels)"
   ]
  },
  {
   "cell_type": "markdown",
   "metadata": {
    "collapsed": true
   },
   "source": [
    "Q1:What is the pressure coefficient on the 3rd panel on the main airfoil?"
   ]
  },
  {
   "cell_type": "code",
   "execution_count": 38,
   "metadata": {
    "collapsed": false
   },
   "outputs": [
    {
     "data": {
      "text/plain": [
       "-0.95570117298077895"
      ]
     },
     "execution_count": 38,
     "metadata": {},
     "output_type": "execute_result"
    }
   ],
   "source": [
    "panels[2].cp"
   ]
  },
  {
   "cell_type": "markdown",
   "metadata": {},
   "source": [
    "Q2: What is the pressure coefficient on the  10th panel on the flap airfoil?"
   ]
  },
  {
   "cell_type": "code",
   "execution_count": 39,
   "metadata": {
    "collapsed": false
   },
   "outputs": [
    {
     "name": "stderr",
     "output_type": "stream",
     "text": [
      "/home/gil/anaconda3/lib/python3.5/site-packages/ipykernel/__main__.py:1: VisibleDeprecationWarning: using a non-integer number instead of an integer will result in an error in the future\n",
      "  if __name__ == '__main__':\n"
     ]
    },
    {
     "data": {
      "text/plain": [
       "-0.27991839836855581"
      ]
     },
     "execution_count": 39,
     "metadata": {},
     "output_type": "execute_result"
    }
   ],
   "source": [
    "panels[N/2+9].cp"
   ]
  },
  {
   "cell_type": "markdown",
   "metadata": {},
   "source": [
    "Q3: What is the value of lift?"
   ]
  },
  {
   "cell_type": "code",
   "execution_count": 40,
   "metadata": {
    "collapsed": false
   },
   "outputs": [
    {
     "data": {
      "text/plain": [
       "3.6977144768607482"
      ]
     },
     "execution_count": 40,
     "metadata": {},
     "output_type": "execute_result"
    }
   ],
   "source": [
    "L"
   ]
  },
  {
   "cell_type": "markdown",
   "metadata": {},
   "source": [
    "Q4: What is the value of drag?"
   ]
  },
  {
   "cell_type": "code",
   "execution_count": 41,
   "metadata": {
    "collapsed": false
   },
   "outputs": [
    {
     "data": {
      "text/plain": [
       "0.010791403245870789"
      ]
     },
     "execution_count": 41,
     "metadata": {},
     "output_type": "execute_result"
    }
   ],
   "source": [
    "D"
   ]
  },
  {
   "cell_type": "markdown",
   "metadata": {},
   "source": [
    "Q5: Run the program again with 200 panels on both main and flap airfoils. What is the percentage of improvement of the absolute error in the value of lift"
   ]
  },
  {
   "cell_type": "code",
   "execution_count": 42,
   "metadata": {
    "collapsed": true
   },
   "outputs": [],
   "source": [
    "x_main, y_main = numpy.loadtxt('../AeroPython/lessons/resources/MainFoil_N=200.csv', dtype=float, delimiter=',', unpack=True)\n",
    "x_flap, y_flap = numpy.loadtxt('../AeroPython/lessons/resources/FlapFoil_N=200.csv', dtype=float, delimiter=',', unpack=True)"
   ]
  },
  {
   "cell_type": "code",
   "execution_count": 43,
   "metadata": {
    "collapsed": false
   },
   "outputs": [],
   "source": [
    "class Panel:\n",
    "    \"\"\"Contains information related to a panel.\"\"\"\n",
    "    def __init__(self, xa, ya, xb, yb):\n",
    "        \"\"\"Creates a panel.\n",
    "        \n",
    "        Arguments\n",
    "        ---------\n",
    "        xa, ya: Cartesian coordinates of the first end-point.\n",
    "        xb, yb: Cartesian coordinates of the second end-point.\n",
    "        \"\"\"\n",
    "        self.xa, self.ya = xa, ya\n",
    "        self.xb, self.yb = xb, yb\n",
    "        \n",
    "        self.xc, self.yc = (xa+xb)/2, (ya+yb)/2            # control-point (center-point)\n",
    "        self.length = numpy.sqrt((xb-xa)**2+(yb-ya)**2)     # length of the panel\n",
    "        \n",
    "        # orientation of the panel (angle between x-axis and panel's normal)\n",
    "        if xb-xa <= 0.:\n",
    "            self.beta = numpy.arccos((yb-ya)/self.length)\n",
    "        elif xb-xa > 0.:\n",
    "            self.beta = numpy.pi + numpy.arccos(-(yb-ya)/self.length)\n",
    "        \n",
    "        # location of the panel\n",
    "        if self.beta <= numpy.pi:\n",
    "            self.loc = 'extrados'                   #upper face\n",
    "        else:\n",
    "            self.loc = 'intrados'                   #lower face\n",
    "        \n",
    "        self.sigma = 0.                             # source strength\n",
    "        self.vt = 0.                                # tangential velocity\n",
    "        self.cp = 0.                                # pressure coefficient"
   ]
  },
  {
   "cell_type": "code",
   "execution_count": 44,
   "metadata": {
    "collapsed": false
   },
   "outputs": [],
   "source": [
    "def define_panels(x ,y ,N):\n",
    "    \"\"\"Discretizes the geometry into panels using 'cosine' method.\n",
    "    \n",
    "    Arguments\n",
    "    ---------\n",
    "    x, y : Cartesian coordinates of the geometry (1d arrays).\n",
    "    N: number of panels (40 by default)\n",
    "    \n",
    "    Returns\n",
    "    -------\n",
    "    panels: Numpy array of panels\n",
    "    \"\"\"\n",
    "    \n",
    "    x, y = numpy.append(x, x[0]), numpy.append(y, y[0])    # extend arrays using numpy.append\n",
    "    \n",
    "    panels = numpy.empty(N, dtype=object)\n",
    "    for i in range(N):\n",
    "        panels[i] = Panel(x[i], y[i], x[i+1], y[i+1])\n",
    "    \n",
    "    return panels"
   ]
  },
  {
   "cell_type": "code",
   "execution_count": 45,
   "metadata": {
    "collapsed": false
   },
   "outputs": [
    {
     "data": {
      "image/png": "[encoded data removed]",
      "text/plain": [
       "<matplotlib.figure.Figure at 0x7f5c12146c18>"
      ]
     },
     "metadata": {},
     "output_type": "display_data"
    }
   ],
   "source": [
    "N = 200 #number of panels on airfoil/flap\n",
    "size = 10\n",
    "pyplot.figure(figsize=(24,4))\n",
    "pyplot.plot(x_main, y_main, x_flap, y_flap,  color='b', linestyle='-', linewidth=1);\n",
    "pyplot.grid(True)\n",
    "panels_main, panels_flap = define_panels(x_main, y_main, N), define_panels(x_flap, y_flap, N)\n",
    "pyplot.scatter([panel.xa for panel in panels_main], [panel.ya for panel in panels_main], color='r');\n",
    "pyplot.scatter([panel.xa for panel in panels_flap], [panel.ya for panel in panels_flap], color='b');"
   ]
  },
  {
   "cell_type": "code",
   "execution_count": 46,
   "metadata": {
    "collapsed": false
   },
   "outputs": [],
   "source": [
    "Np=len(x_main)-1\n",
    "\n",
    "panels_main = define_panels(x_main, y_main, Np)   # discretizes of the airfoil into panels\n",
    "\n",
    "panels_flap = define_panels(x_flap, y_flap, Np)   # discretizes of the flap into panels\n",
    "\n",
    "#print numpy.shape(panels_airfoil)"
   ]
  },
  {
   "cell_type": "code",
   "execution_count": 47,
   "metadata": {
    "collapsed": true
   },
   "outputs": [],
   "source": [
    "class Freestream:\n",
    "    \"\"\"Freestream conditions.\"\"\"\n",
    "    def __init__(self, U_inf=1.0, alpha=0.0):\n",
    "        \"\"\"Sets the freestream conditions.\n",
    "        \n",
    "        Arguments\n",
    "        ---------\n",
    "        U_inf: Farfield speed (default 1.0).\n",
    "        alpha: Angle of attack in degrees (default 0.0).\n",
    "        \"\"\"\n",
    "        self.U_inf = U_inf\n",
    "        self.alpha = alpha*numpy.pi/180          # degrees to radians"
   ]
  },
  {
   "cell_type": "code",
   "execution_count": 48,
   "metadata": {
    "collapsed": true
   },
   "outputs": [],
   "source": [
    "# defines and creates the object freestream\n",
    "U_inf = 1.0                                # freestream speed\n",
    "alpha = 0.0                                # angle of attack (in degrees)\n",
    "freestream = Freestream(U_inf, alpha)      # instantiation of the object freestream"
   ]
  },
  {
   "cell_type": "code",
   "execution_count": 49,
   "metadata": {
    "collapsed": true
   },
   "outputs": [],
   "source": [
    "def integral(x, y, panel, dxdk, dydk):\n",
    "    \"\"\"Evaluates the contribution of a panel at one point.\n",
    "    \n",
    "    Arguments\n",
    "    ---------\n",
    "    x, y: Cartesian coordinates of the point.\n",
    "    panel: panel which contribution is evaluated.\n",
    "    dxdk: derivative of x in the z-direction.\n",
    "    dydk:  derivative of y in the z-direction.\n",
    "    \n",
    "    Returns\n",
    "    -------\n",
    "    Integral over the panel of the influence at one point.\n",
    "    \"\"\"\n",
    "    def func(s):\n",
    "        return ( ((x - (panel.xa - numpy.sin(panel.beta)*s))*dxdk\n",
    "                  +(y - (panel.ya + numpy.cos(panel.beta)*s))*dydk)\n",
    "                / ((x - (panel.xa - numpy.sin(panel.beta)*s))**2\n",
    "                   +(y - (panel.ya + numpy.cos(panel.beta)*s))**2) )\n",
    "    return integrate.quad(lambda s:func(s), 0., panel.length)[0]"
   ]
  },
  {
   "cell_type": "code",
   "execution_count": 50,
   "metadata": {
    "collapsed": false
   },
   "outputs": [],
   "source": [
    "N = 2*Np #Redifining N, so when we do slices in N we are talking about N=N_airfoil+N_flap\n",
    "panels = numpy.concatenate((panels_main, panels_flap))"
   ]
  },
  {
   "cell_type": "code",
   "execution_count": 51,
   "metadata": {
    "collapsed": true
   },
   "outputs": [],
   "source": [
    "def source_matrix_normal(panels):\n",
    "    \"\"\"Builds the source matrix.\n",
    "    \n",
    "    Arguments\n",
    "    ---------\n",
    "    panels: array of panels.\n",
    "    \n",
    "    Returns\n",
    "    -------\n",
    "    A_n: NxN matrix (N is the number of panels).\n",
    "    \"\"\"\n",
    "    N = len(panels)\n",
    "    A_n = numpy.empty((N, N), dtype=float)\n",
    "    numpy.fill_diagonal(A_n, 0.5)\n",
    "    \n",
    "    for i, p_i in enumerate(panels):\n",
    "        for j, p_j in enumerate(panels):\n",
    "            if i != j:\n",
    "                A_n[i,j] = 0.5/numpy.pi*integral(p_i.xc, p_i.yc, p_j, numpy.cos(p_i.beta), numpy.sin(p_i.beta))\n",
    "                \n",
    "    return A_n"
   ]
  },
  {
   "cell_type": "code",
   "execution_count": 52,
   "metadata": {
    "collapsed": true
   },
   "outputs": [],
   "source": [
    "def vortex_matrix_normal(panels):\n",
    "    \"\"\"Builds the vortex matrix.\n",
    "    \n",
    "    Arguments\n",
    "    ---------\n",
    "    panels: array of panels.\n",
    "    \n",
    "    Returns\n",
    "    -------\n",
    "    B_n: NxN matrix (N is the number of panels).\n",
    "    s_bn: 1D array (Nx1, N is the number of panels) \n",
    "         (is the sum over j of the coefficients ).\n",
    "    \"\"\"\n",
    "    N = len(panels)\n",
    "    B_n = numpy.empty((N, N), dtype=float)\n",
    "    numpy.fill_diagonal(B_n, 0.)\n",
    "    \n",
    "    for i, p_i in enumerate(panels):\n",
    "        for j, p_j in enumerate(panels):\n",
    "            if i != j:\n",
    "                B_n[i,j] = -0.5/numpy.pi*integral(p_i.xc, p_i.yc, p_j, numpy.sin(p_i.beta), -numpy.cos(p_i.beta))\n",
    "                \n",
    "    return B_n"
   ]
  },
  {
   "cell_type": "code",
   "execution_count": 53,
   "metadata": {
    "collapsed": true
   },
   "outputs": [],
   "source": [
    "def vortex_arrays_normal(panels, B_n):\n",
    "    \"\"\"Builds the vortex array for normal matrix.\n",
    "    \n",
    "    Arguments\n",
    "    ---------\n",
    "    panels: array of panels.\n",
    "    B_n: NxN matrix (N is the number of panels). Vortex normal matrix\n",
    "    Returns\n",
    "    -------\n",
    "    a -- 1D array (Nx1, N is the number of panels).\n",
    "    \"\"\"\n",
    "    N = len(panels)\n",
    "    a1_n = numpy.zeros(panels.size, dtype=float)\n",
    "    a2_n = numpy.zeros(panels.size, dtype=float)\n",
    "    for i, p_i in enumerate(panels):\n",
    "        \n",
    "            a1_n[i] = numpy.sum(B_n[i,0:N/2]) \n",
    "            a2_n[i] = numpy.sum(B_n[i,N/2:])\n",
    "    \n",
    "    return a1_n , a2_n\n"
   ]
  },
  {
   "cell_type": "code",
   "execution_count": 54,
   "metadata": {
    "collapsed": false
   },
   "outputs": [
    {
     "name": "stderr",
     "output_type": "stream",
     "text": [
      "/home/gil/anaconda3/lib/python3.5/site-packages/ipykernel/__main__.py:17: VisibleDeprecationWarning: using a non-integer number instead of an integer will result in an error in the future\n",
      "/home/gil/anaconda3/lib/python3.5/site-packages/ipykernel/__main__.py:18: VisibleDeprecationWarning: using a non-integer number instead of an integer will result in an error in the future\n"
     ]
    }
   ],
   "source": [
    "panels = numpy.concatenate((panels_main, panels_flap))\n",
    "A_n = source_matrix_normal(panels)\n",
    "B_n = vortex_matrix_normal(panels)\n",
    "a1_n , a2_n = vortex_arrays_normal(panels, B_n)"
   ]
  },
  {
   "cell_type": "code",
   "execution_count": 55,
   "metadata": {
    "collapsed": true
   },
   "outputs": [],
   "source": [
    "def A_normal(A_n, a1_n , a2_n, N):\n",
    "    \"\"\"Builds the normal matrix.\n",
    "    \n",
    "    Arguments\n",
    "    ---------\n",
    "    panels: array of panels.\n",
    "    A_n: NxN matrix (N is the number of panels). Vortex normal matrix\n",
    "    a1_n -- 1D array (Nx1, N is the number of panels).\n",
    "    a2_n -- 1D array (Nx1, N is the number of panels).\n",
    "    Returns\n",
    "    -------\n",
    "    A_normal: Nx(N+2) matrix (N is the number of panels).\n",
    "    \"\"\"\n",
    "\n",
    "    #Matrix A_normal (Nx(N+2))\n",
    "\n",
    "    A_normal = numpy.empty((N, N+2), dtype=float)\n",
    "\n",
    "    A_normal[0:N,0:N] = A_n[:,:]\n",
    "    A_normal[0:N,-2] = a1_n[:]\n",
    "    A_normal[0:N,-1] = a2_n[:]\n",
    "    \n",
    "    return A_normal"
   ]
  },
  {
   "cell_type": "code",
   "execution_count": 56,
   "metadata": {
    "collapsed": true
   },
   "outputs": [],
   "source": [
    "A_normal = A_normal(A_n, a1_n , a2_n, N)"
   ]
  },
  {
   "cell_type": "code",
   "execution_count": 57,
   "metadata": {
    "collapsed": true
   },
   "outputs": [],
   "source": [
    "def vortex_arrays_tangential(panels, A_n):\n",
    "    \"\"\"Builds the vortex array for normal matrix.\n",
    "    \n",
    "    Arguments\n",
    "    ---------\n",
    "    panels: array of panels.\n",
    "    A_n: NxN matrix (N is the number of panels). Source normal matrix\n",
    "    Returns\n",
    "    -------\n",
    "    a1_t -- 1D array (Nx1, N is the number of panels).\n",
    "    a2_t -- 1D array (Nx1, N is the number of panels).\n",
    "    \"\"\"\n",
    "    N = len(panels)\n",
    "    a1_t = numpy.zeros(panels.size, dtype=float)\n",
    "    a2_t = numpy.zeros(panels.size, dtype=float)\n",
    "    for i, p_i in enumerate(panels):\n",
    "        \n",
    "            a1_t[i] = numpy.sum(A_n[i,0:N/2]) \n",
    "            a2_t[i] = numpy.sum(A_n[i,N/2:])\n",
    "    \n",
    "    return a1_t , a2_t"
   ]
  },
  {
   "cell_type": "code",
   "execution_count": 58,
   "metadata": {
    "collapsed": false
   },
   "outputs": [
    {
     "name": "stderr",
     "output_type": "stream",
     "text": [
      "/home/gil/anaconda3/lib/python3.5/site-packages/ipykernel/__main__.py:18: VisibleDeprecationWarning: using a non-integer number instead of an integer will result in an error in the future\n",
      "/home/gil/anaconda3/lib/python3.5/site-packages/ipykernel/__main__.py:19: VisibleDeprecationWarning: using a non-integer number instead of an integer will result in an error in the future\n"
     ]
    }
   ],
   "source": [
    "a1_t , a2_t = vortex_arrays_tangential(panels, A_n)"
   ]
  },
  {
   "cell_type": "code",
   "execution_count": 59,
   "metadata": {
    "collapsed": true
   },
   "outputs": [],
   "source": [
    "def A_tangential(B_n, a1_t , a2_t, N):\n",
    "    \"\"\"Builds the tangential matrix.\n",
    "    \n",
    "    Arguments\n",
    "    ---------\n",
    "    panels: array of panels.\n",
    "    B_n: NxN matrix (N is the number of panels). Vortex normal matrix\n",
    "    \n",
    "    Returns\n",
    "    -------\n",
    "    A_tangential: Nx(N+2) matrix (N is the number of panels).\n",
    "    \"\"\"\n",
    "\n",
    "    #Matrix A_tangential (Nx(N+2))\n",
    "\n",
    "    A_tangential = numpy.empty((N, N+2), dtype=float)\n",
    "\n",
    "    A_tangential[0:N,0:N] = B_n[:,:]\n",
    "    A_tangential[0:N,-2] = -a1_t[:]\n",
    "    A_tangential[0:N,-1] = -a2_t[:]\n",
    "    \n",
    "    return A_tangential"
   ]
  },
  {
   "cell_type": "code",
   "execution_count": 60,
   "metadata": {
    "collapsed": true
   },
   "outputs": [],
   "source": [
    "A_tangential = A_tangential(B_n, a1_t , a2_t, N)"
   ]
  },
  {
   "cell_type": "code",
   "execution_count": 61,
   "metadata": {
    "collapsed": true
   },
   "outputs": [],
   "source": [
    "#Kutta arrays\n",
    "\n",
    "def kutta_arrays(A_tangential, N):\n",
    "    \"\"\"Builds the kutta arrays.\n",
    "    \n",
    "    Arguments\n",
    "    ---------\n",
    "    A_tangential: Nx(N+2) matrix (N is the number of panels).\n",
    "    \n",
    "    Returns\n",
    "    -------\n",
    "    k_a1 -- 1D array ((N+2)x1, N is the number of panels). kutta array 1\n",
    "    k_a2 -- 1D array ((N+2)x1, N is the number of panels). kutta array 2\n",
    "    \"\"\"\n",
    "    k_a1 = numpy.zeros(N+2,dtype=float)\n",
    "    k_a2 = numpy.zeros(N+2,dtype=float)\n",
    "\n",
    "    k_a1 = A_tangential[0,:] + A_tangential[N/2-1,:]\n",
    "    k_a2 = A_tangential[N/2,:] + A_tangential[N-1,:]\n",
    "    \n",
    "    return k_a1, k_a2"
   ]
  },
  {
   "cell_type": "code",
   "execution_count": 62,
   "metadata": {
    "collapsed": false
   },
   "outputs": [
    {
     "name": "stderr",
     "output_type": "stream",
     "text": [
      "/home/gil/anaconda3/lib/python3.5/site-packages/ipykernel/__main__.py:18: VisibleDeprecationWarning: using a non-integer number instead of an integer will result in an error in the future\n",
      "/home/gil/anaconda3/lib/python3.5/site-packages/ipykernel/__main__.py:19: VisibleDeprecationWarning: using a non-integer number instead of an integer will result in an error in the future\n"
     ]
    }
   ],
   "source": [
    "k_a1, k_a2 = kutta_arrays(A_tangential, N)"
   ]
  },
  {
   "cell_type": "code",
   "execution_count": 63,
   "metadata": {
    "collapsed": true
   },
   "outputs": [],
   "source": [
    "def build_matrix(panels, A_normal, k_a1, k_a2):\n",
    "    \"\"\"Builds the matrix of the linear system.\n",
    "    \n",
    "    Arguments\n",
    "    ---------\n",
    "    panels: array of panels.\n",
    "    A_n: matrix normal\n",
    "    k_a1: Kutta array 1\n",
    "    k_a2: Kutta array 2\n",
    "    \n",
    "    Returns\n",
    "    -------\n",
    "    A -- (N+2)x(N+2) matrix (N is the number of panels).\n",
    "    \"\"\"\n",
    "    N = len(panels)\n",
    "    A = numpy.empty((N+2, N+2), dtype=float)\n",
    "    \n",
    "    A[0:N,:] = A_normal[:,:]\n",
    "    A[-2,:] = k_a1[:]\n",
    "    A[-1,:] = k_a2[:]\n",
    "    \n",
    "    return A"
   ]
  },
  {
   "cell_type": "code",
   "execution_count": 64,
   "metadata": {
    "collapsed": true
   },
   "outputs": [],
   "source": [
    "def build_rhs(panels, freestream):\n",
    "    \"\"\"Builds the RHS of the linear system.\n",
    "    \n",
    "    Arguments\n",
    "    ---------\n",
    "    panels: array of panels.\n",
    "    freestream: farfield conditions.\n",
    "    \n",
    "    Returns\n",
    "    -------\n",
    "    b: 1D array ((N+2)x1, N is the number of panels).\n",
    "    \"\"\"\n",
    "    N = len(panels)\n",
    "    b = numpy.empty(N+2,dtype=float)\n",
    "    \n",
    "    for i, panel in enumerate(panels):\n",
    "        b[i] = -freestream.U_inf * numpy.cos(freestream.alpha - panel.beta)\n",
    "    b[N] = -freestream.U_inf*( numpy.sin(freestream.alpha-panels[0].beta)\n",
    "                              +numpy.sin(freestream.alpha-panels[N/2-1].beta) )\n",
    "    b[N+1] = -freestream.U_inf*( numpy.sin(freestream.alpha-panels[N/2].beta)\n",
    "                              +numpy.sin(freestream.alpha-panels[N-1].beta) )\n",
    "    return b"
   ]
  },
  {
   "cell_type": "code",
   "execution_count": 65,
   "metadata": {
    "collapsed": false
   },
   "outputs": [
    {
     "name": "stderr",
     "output_type": "stream",
     "text": [
      "/home/gil/anaconda3/lib/python3.5/site-packages/ipykernel/__main__.py:19: VisibleDeprecationWarning: using a non-integer number instead of an integer will result in an error in the future\n",
      "/home/gil/anaconda3/lib/python3.5/site-packages/ipykernel/__main__.py:20: VisibleDeprecationWarning: using a non-integer number instead of an integer will result in an error in the future\n"
     ]
    }
   ],
   "source": [
    "A = build_matrix(panels, A_normal, k_a1, k_a2)                 # calculates the singularity matrix\n",
    "b = build_rhs(panels, freestream)         # calculates the freestream RHS\n"
   ]
  },
  {
   "cell_type": "code",
   "execution_count": 66,
   "metadata": {
    "collapsed": false
   },
   "outputs": [],
   "source": [
    "# solves the linear system\n",
    "variables = linalg.solve(A, b)\n",
    "\n",
    "for i, panel in enumerate(panels):\n",
    "    panel.sigma = variables[i]\n",
    "gamma1 = variables[-2]\n",
    "gamma2 = variables[-1]"
   ]
  },
  {
   "cell_type": "code",
   "execution_count": 67,
   "metadata": {
    "collapsed": true
   },
   "outputs": [],
   "source": [
    "def get_tangential_velocity(panels, freestream, gamma1, gamma2, A_tangential):\n",
    "    \"\"\"Computes the tangential velocity on the surface.\n",
    "    \n",
    "    Arguments\n",
    "    ---------\n",
    "    panels -- array of panels.\n",
    "    freestream -- farfield conditions.\n",
    "    gamma1 -- circulation density of airfoil.\n",
    "    gamma2 -- circulation density of flap.\n",
    "    \n",
    "    \"\"\"\n",
    "    N = len(panels)\n",
    "\n",
    "    b = freestream.U_inf * numpy.sin([freestream.alpha - panel.beta for panel in panels])\n",
    "    \n",
    "    var1 = numpy.append([panel.sigma for panel in panels], gamma1)\n",
    "    var = numpy.append(var1, gamma2)\n",
    "    \n",
    "    vt = numpy.dot(A_tangential, var) + b\n",
    "    for i, panel in enumerate(panels):\n",
    "        panel.vt = vt[i]"
   ]
  },
  {
   "cell_type": "code",
   "execution_count": 68,
   "metadata": {
    "collapsed": false
   },
   "outputs": [],
   "source": [
    "get_tangential_velocity(panels, freestream, gamma1, gamma2, A_tangential)"
   ]
  },
  {
   "cell_type": "code",
   "execution_count": 69,
   "metadata": {
    "collapsed": true
   },
   "outputs": [],
   "source": [
    "def get_pressure_coefficient(panels, freestream):\n",
    "    \"\"\"Computes the surface pressure coefficients.\n",
    "    \n",
    "    Arguments\n",
    "    ---------\n",
    "    panels -- array of panels.\n",
    "    freestream -- farfield conditions.\n",
    "    \"\"\"\n",
    "    for panel in panels:\n",
    "        panel.cp = 1.0 - (panel.vt/freestream.U_inf)**2"
   ]
  },
  {
   "cell_type": "code",
   "execution_count": 70,
   "metadata": {
    "collapsed": true
   },
   "outputs": [],
   "source": [
    "get_pressure_coefficient(panels, freestream)"
   ]
  },
  {
   "cell_type": "code",
   "execution_count": 71,
   "metadata": {
    "collapsed": false
   },
   "outputs": [],
   "source": [
    "x_air_t, cp_air_t = numpy.loadtxt('../AeroPython/lessons/resources/Cp_Main_theoretical.csv', delimiter=',', unpack=True)\n",
    "x_flap_t, cp_flap_t = numpy.loadtxt('../AeroPython/lessons/resources/Cp_Flap_theoretical.csv', delimiter=',', unpack=True)"
   ]
  },
  {
   "cell_type": "code",
   "execution_count": 72,
   "metadata": {
    "collapsed": false
   },
   "outputs": [
    {
     "name": "stderr",
     "output_type": "stream",
     "text": [
      "/home/gil/anaconda3/lib/python3.5/site-packages/ipykernel/__main__.py:9: VisibleDeprecationWarning: using a non-integer number instead of an integer will result in an error in the future\n",
      "/home/gil/anaconda3/lib/python3.5/site-packages/ipykernel/__main__.py:10: VisibleDeprecationWarning: using a non-integer number instead of an integer will result in an error in the future\n"
     ]
    },
    {
     "data": {
      "image/png": "[encoded data removed]",
      "text/plain": [
       "<matplotlib.figure.Figure at 0x7f5c13742828>"
      ]
     },
     "metadata": {},
     "output_type": "display_data"
    }
   ],
   "source": [
    "val_x, val_y = 0.1, 0.2\n",
    "x_min, x_max = min( panel.xa for panel in panels ), max( panel.xa for panel in panels )\n",
    "cp_min, cp_max = min( panel.cp for panel in panels ), max( panel.cp for panel in panels )\n",
    "x_start, x_end = x_min-val_x*(x_max-x_min), x_max+val_x*(x_max-x_min)\n",
    "y_start, y_end = cp_min-val_y*(cp_max-cp_min), cp_max+val_y*(cp_max-cp_min)\n",
    "\n",
    "# plots the surface pressure coefficient\n",
    "N = len(panels)\n",
    "airfoil = panels[:N/2]\n",
    "flap = panels[N/2:]\n",
    "\n",
    "pyplot.figure(figsize=(10, 6))\n",
    "pyplot.grid(True)\n",
    "pyplot.xlabel('x', fontsize=16)\n",
    "pyplot.ylabel('$C_p$', fontsize=16)\n",
    "pyplot.plot([panel.xc for panel in airfoil if panel.loc == 'extrados'], \n",
    "         [panel.cp for panel in airfoil if panel.loc == 'extrados'], \n",
    "         color='r', linestyle='-', linewidth=2, marker='o', markersize=6)\n",
    "pyplot.plot([panel.xc for panel in flap if panel.loc == 'extrados'], \n",
    "         [panel.cp for panel in flap if panel.loc == 'extrados'], \n",
    "         color='r', linestyle='-', linewidth=2, marker='o', markersize=6)\n",
    "pyplot.plot([panel.xc for panel in airfoil if panel.loc == 'intrados'], \n",
    "         [panel.cp for panel in airfoil if panel.loc == 'intrados'], \n",
    "         color='b', linestyle='-', linewidth=1, marker='o', markersize=6)\n",
    "pyplot.plot([panel.xc for panel in flap if panel.loc == 'intrados'], \n",
    "         [panel.cp for panel in flap if panel.loc == 'intrados'], \n",
    "         color='b', linestyle='-', linewidth=1, marker='o', markersize=6)\n",
    "pyplot.plot(x_air_t, cp_air_t, 'k+', x_flap_t, cp_flap_t, 'k+')\n",
    "\n",
    "pyplot.xlim(x_start, x_end)\n",
    "pyplot.ylim(y_start, y_end)\n",
    "pyplot.gca().invert_yaxis()\n",
    "pyplot.title('Number of panels : %d' % Np);"
   ]
  },
  {
   "cell_type": "code",
   "execution_count": 73,
   "metadata": {
    "collapsed": true
   },
   "outputs": [],
   "source": [
    "def get_coefficients(panels):\n",
    "    L = 0.\n",
    "    D = 0.\n",
    "    for panel in panels:\n",
    "        L -= panel.cp*panel.length*numpy.sin(panel.beta)\n",
    "        D += panel.cp*panel.length*numpy.cos(panel.beta)\n",
    "    return L, D"
   ]
  },
  {
   "cell_type": "code",
   "execution_count": 74,
   "metadata": {
    "collapsed": false
   },
   "outputs": [
    {
     "data": {
      "text/plain": [
       "3.6977144768607482"
      ]
     },
     "execution_count": 74,
     "metadata": {},
     "output_type": "execute_result"
    }
   ],
   "source": [
    "L"
   ]
  }
 ],
 "metadata": {
  "anaconda-cloud": {},
  "kernelspec": {
   "display_name": "Python [conda root]",
   "language": "python",
   "name": "conda-root-py"
  },
  "language_info": {
   "codemirror_mode": {
    "name": "ipython",
    "version": 3
   },
   "file_extension": ".py",
   "mimetype": "text/x-python",
   "name": "python",
   "nbconvert_exporter": "python",
   "pygments_lexer": "ipython3",
   "version": "3.5.2"
  }
 },
 "nbformat": 4,
 "nbformat_minor": 1
}
